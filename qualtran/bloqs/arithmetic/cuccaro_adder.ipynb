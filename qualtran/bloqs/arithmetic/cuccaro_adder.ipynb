{
 "cells": [
  {
   "cell_type": "markdown",
   "id": "c9483021",
   "metadata": {
    "cq.autogen": "title_cell"
   },
   "source": [
    "# Cuccaro adder"
   ]
  },
  {
   "cell_type": "code",
   "execution_count": 1,
   "id": "2dd760e6",
   "metadata": {
    "cq.autogen": "top_imports"
   },
   "outputs": [
    {
     "name": "stderr",
     "output_type": "stream",
     "text": [
      "/opt/anaconda3/envs/qualtran/lib/python3.13/site-packages/cotengra/hyperoptimizers/hyper.py:54: UserWarning: Couldn't find `optuna`, `cmaes`, or `nevergrad` so will use completely random sampling in place of hyper-optimization.\n",
      "  warnings.warn(\n",
      "/opt/anaconda3/envs/qualtran/lib/python3.13/site-packages/cotengra/hyperoptimizers/hyper.py:36: UserWarning: Couldn't import `kahypar` - skipping from default hyper optimizer and using basic `labels` method instead.\n",
      "  warnings.warn(\n",
      "/opt/anaconda3/envs/qualtran/lib/python3.13/site-packages/cotengra/hyperoptimizers/hyper.py:73: UserWarning: Couldn't find `optuna`, `cmaes`, or `nevergrad` so will use completely random sampling in place of hyper-optimization.\n",
      "  warnings.warn(\n"
     ]
    }
   ],
   "source": [
    "from qualtran import Bloq, CompositeBloq, BloqBuilder, Signature, Register\n",
    "from qualtran import QBit, QInt, QUInt, QAny\n",
    "from qualtran.drawing import show_bloq, show_call_graph, show_counts_sigma\n",
    "from typing import *\n",
    "import numpy as np\n",
    "import sympy\n",
    "import cirq\n",
    "from cuccaro_adder import CuccaroADD, MAJ, UMA, MyCuccaroADD"
   ]
  },
  {
   "cell_type": "markdown",
   "id": "95d8998c",
   "metadata": {
    "cq.autogen": "Add.bloq_doc.md"
   },
   "source": [
    "## `CuccaroADD`\n",
    "An n-bit addition gate by an inplace ripple carry addition method.\n",
    "\n",
    "Implements $U|a\\rangle|b\\rangle \\rightarrow |a\\rangle|a+b\\rangle$ \n",
    "#### Parameters\n",
    " - `bitsize`: Size of the inputs (`a`= bitsize and `b` = bitsize+1)\n",
    "\n",
    "#### Registers\n",
    " - `a`: A QInt.(bitsize)-sized input register.\n",
    " - `b`: A QInt.(bitsize+1)-sized input register.\n",
    "\n",
    "#### References\n",
    " - [A new quantum ripple-carry addition circuit](https://arxiv.org/abs/quant-ph/0410184). \n"
   ]
  },
  {
   "cell_type": "code",
   "execution_count": 2,
   "id": "50bdb8fb",
   "metadata": {},
   "outputs": [
    {
     "data": {
      "image/png": "[encoded data removed]",
      "text/plain": [
       "<Figure size 480x280 with 1 Axes>"
      ]
     },
     "metadata": {},
     "output_type": "display_data"
    }
   ],
   "source": [
    "show_bloq(MAJ().decompose_bloq(), 'musical_score')"
   ]
  },
  {
   "cell_type": "code",
   "execution_count": 3,
   "id": "ea3981fb",
   "metadata": {},
   "outputs": [
    {
     "data": {
      "image/png": "[encoded data removed]",
      "text/plain": [
       "<Figure size 480x280 with 1 Axes>"
      ]
     },
     "metadata": {},
     "output_type": "display_data"
    }
   ],
   "source": [
    "show_bloq(UMA().decompose_bloq(), 'musical_score')"
   ]
  },
  {
   "cell_type": "code",
   "execution_count": 4,
   "id": "c5045c33",
   "metadata": {},
   "outputs": [],
   "source": [
    "cadder_5 = CuccaroADD(5)\n",
    "cadder_n = CuccaroADD(sympy.Symbol('n'))"
   ]
  },
  {
   "cell_type": "code",
   "execution_count": 5,
   "id": "9b151418",
   "metadata": {},
   "outputs": [
    {
     "data": {
      "image/svg+xml": [
       "<svg xmlns=\"http://www.w3.org/2000/svg\" xmlns:xlink=\"http://www.w3.org/1999/xlink\" width=\"252pt\" height=\"98pt\" viewBox=\"0.00 0.00 252.25 98.00\">\n",
       "<g id=\"graph0\" class=\"graph\" transform=\"scale(1 1) rotate(0) translate(4 94)\">\n",
       "<title>my_graph</title>\n",
       "<polygon fill=\"white\" stroke=\"none\" points=\"-4,4 -4,-94 248.25,-94 248.25,4 -4,4\"/>\n",
       "<!-- a_G0 -->\n",
       "<g id=\"node1\" class=\"node\">\n",
       "<title>a_G0</title>\n",
       "<text text-anchor=\"middle\" x=\"27\" y=\"-66.95\" font-family=\"Times,serif\" font-size=\"14.00\">a</text>\n",
       "</g>\n",
       "<!-- CuccaroADD -->\n",
       "<g id=\"node3\" class=\"node\">\n",
       "<title>CuccaroADD</title>\n",
       "<polygon fill=\"none\" stroke=\"black\" points=\"91,-66.88 91,-84.12 153.25,-84.12 153.25,-66.88 91,-66.88\"/>\n",
       "<text text-anchor=\"start\" x=\"94\" y=\"-71.62\" font-family=\"Times,serif\" font-size=\"10.00\">CuccaroADD</text>\n",
       "<polygon fill=\"none\" stroke=\"black\" points=\"91,-44.38 91,-66.88 153.25,-66.88 153.25,-44.38 91,-44.38\"/>\n",
       "<text text-anchor=\"start\" x=\"119.12\" y=\"-50.58\" font-family=\"Times,serif\" font-size=\"14.00\">a</text>\n",
       "<polygon fill=\"none\" stroke=\"black\" points=\"91,-21.88 91,-44.38 153.25,-44.38 153.25,-21.88 91,-21.88\"/>\n",
       "<text text-anchor=\"start\" x=\"118.75\" y=\"-28.07\" font-family=\"Times,serif\" font-size=\"14.00\">b</text>\n",
       "</g>\n",
       "<!-- a_G0&#45;&gt;CuccaroADD -->\n",
       "<g id=\"edge1\" class=\"edge\">\n",
       "<title>a_G0:e-&gt;CuccaroADD:w</title>\n",
       "<path fill=\"none\" stroke=\"black\" d=\"M54,-72C71,-72 72.85,-57.37 88.2,-55.77\"/>\n",
       "<ellipse fill=\"black\" stroke=\"black\" cx=\"89.5\" cy=\"-55.7\" rx=\"1\" ry=\"1\"/>\n",
       "<text text-anchor=\"middle\" x=\"72.5\" y=\"-65.56\" font-family=\"Times,serif\" font-size=\"10.00\">5</text>\n",
       "</g>\n",
       "<!-- b_G4 -->\n",
       "<g id=\"node2\" class=\"node\">\n",
       "<title>b_G4</title>\n",
       "<text text-anchor=\"middle\" x=\"27\" y=\"-12.95\" font-family=\"Times,serif\" font-size=\"14.00\">b</text>\n",
       "</g>\n",
       "<!-- b_G4&#45;&gt;CuccaroADD -->\n",
       "<g id=\"edge2\" class=\"edge\">\n",
       "<title>b_G4:e-&gt;CuccaroADD:w</title>\n",
       "<path fill=\"none\" stroke=\"black\" d=\"M54,-18C70.79,-18 73.03,-31.52 88.23,-32.99\"/>\n",
       "<ellipse fill=\"black\" stroke=\"black\" cx=\"89.5\" cy=\"-33.05\" rx=\"1\" ry=\"1\"/>\n",
       "<text text-anchor=\"middle\" x=\"72.5\" y=\"-27.31\" font-family=\"Times,serif\" font-size=\"10.00\">6</text>\n",
       "</g>\n",
       "<!-- a_G2 -->\n",
       "<g id=\"node4\" class=\"node\">\n",
       "<title>a_G2</title>\n",
       "<text text-anchor=\"middle\" x=\"217.25\" y=\"-66.95\" font-family=\"Times,serif\" font-size=\"14.00\">a</text>\n",
       "</g>\n",
       "<!-- CuccaroADD&#45;&gt;a_G2 -->\n",
       "<g id=\"edge3\" class=\"edge\">\n",
       "<title>CuccaroADD:e-&gt;a_G2:w</title>\n",
       "<path fill=\"none\" stroke=\"black\" d=\"M153.25,-55.62C170.25,-55.62 172.1,-70.26 187.45,-71.86\"/>\n",
       "<ellipse fill=\"black\" stroke=\"black\" cx=\"188.75\" cy=\"-71.92\" rx=\"1\" ry=\"1\"/>\n",
       "<text text-anchor=\"middle\" x=\"171.75\" y=\"-65.56\" font-family=\"Times,serif\" font-size=\"10.00\">5</text>\n",
       "</g>\n",
       "<!-- b_G5 -->\n",
       "<g id=\"node5\" class=\"node\">\n",
       "<title>b_G5</title>\n",
       "<text text-anchor=\"middle\" x=\"217.25\" y=\"-12.95\" font-family=\"Times,serif\" font-size=\"14.00\">b</text>\n",
       "</g>\n",
       "<!-- CuccaroADD&#45;&gt;b_G5 -->\n",
       "<g id=\"edge4\" class=\"edge\">\n",
       "<title>CuccaroADD:e-&gt;b_G5:w</title>\n",
       "<path fill=\"none\" stroke=\"black\" d=\"M153.25,-33.12C170.04,-33.12 172.28,-19.61 187.48,-18.13\"/>\n",
       "<ellipse fill=\"black\" stroke=\"black\" cx=\"188.75\" cy=\"-18.07\" rx=\"1\" ry=\"1\"/>\n",
       "<text text-anchor=\"middle\" x=\"171.75\" y=\"-27.31\" font-family=\"Times,serif\" font-size=\"10.00\">6</text>\n",
       "</g>\n",
       "</g>\n",
       "</svg>"
      ],
      "text/plain": [
       "<IPython.core.display.SVG object>"
      ]
     },
     "metadata": {},
     "output_type": "display_data"
    }
   ],
   "source": [
    "show_bloq(cadder_5)"
   ]
  },
  {
   "cell_type": "code",
   "execution_count": 6,
   "id": "1686cd40",
   "metadata": {},
   "outputs": [
    {
     "data": {
      "image/svg+xml": [
       "<svg xmlns=\"http://www.w3.org/2000/svg\" xmlns:xlink=\"http://www.w3.org/1999/xlink\" width=\"252pt\" height=\"98pt\" viewBox=\"0.00 0.00 252.25 98.00\">\n",
       "<g id=\"graph0\" class=\"graph\" transform=\"scale(1 1) rotate(0) translate(4 94)\">\n",
       "<title>my_graph</title>\n",
       "<polygon fill=\"white\" stroke=\"none\" points=\"-4,4 -4,-94 248.25,-94 248.25,4 -4,4\"/>\n",
       "<!-- a_G0 -->\n",
       "<g id=\"node1\" class=\"node\">\n",
       "<title>a_G0</title>\n",
       "<text text-anchor=\"middle\" x=\"27\" y=\"-66.95\" font-family=\"Times,serif\" font-size=\"14.00\">a</text>\n",
       "</g>\n",
       "<!-- CuccaroADD -->\n",
       "<g id=\"node3\" class=\"node\">\n",
       "<title>CuccaroADD</title>\n",
       "<polygon fill=\"none\" stroke=\"black\" points=\"91,-66.88 91,-84.12 153.25,-84.12 153.25,-66.88 91,-66.88\"/>\n",
       "<text text-anchor=\"start\" x=\"94\" y=\"-71.62\" font-family=\"Times,serif\" font-size=\"10.00\">CuccaroADD</text>\n",
       "<polygon fill=\"none\" stroke=\"black\" points=\"91,-44.38 91,-66.88 153.25,-66.88 153.25,-44.38 91,-44.38\"/>\n",
       "<text text-anchor=\"start\" x=\"119.12\" y=\"-50.58\" font-family=\"Times,serif\" font-size=\"14.00\">a</text>\n",
       "<polygon fill=\"none\" stroke=\"black\" points=\"91,-21.88 91,-44.38 153.25,-44.38 153.25,-21.88 91,-21.88\"/>\n",
       "<text text-anchor=\"start\" x=\"118.75\" y=\"-28.07\" font-family=\"Times,serif\" font-size=\"14.00\">b</text>\n",
       "</g>\n",
       "<!-- a_G0&#45;&gt;CuccaroADD -->\n",
       "<g id=\"edge1\" class=\"edge\">\n",
       "<title>a_G0:e-&gt;CuccaroADD:w</title>\n",
       "<path fill=\"none\" stroke=\"black\" d=\"M54,-72C71,-72 72.85,-57.37 88.2,-55.77\"/>\n",
       "<ellipse fill=\"black\" stroke=\"black\" cx=\"89.5\" cy=\"-55.7\" rx=\"1\" ry=\"1\"/>\n",
       "<text text-anchor=\"middle\" x=\"72.5\" y=\"-65.56\" font-family=\"Times,serif\" font-size=\"10.00\">n</text>\n",
       "</g>\n",
       "<!-- b_G2 -->\n",
       "<g id=\"node2\" class=\"node\">\n",
       "<title>b_G2</title>\n",
       "<text text-anchor=\"middle\" x=\"27\" y=\"-12.95\" font-family=\"Times,serif\" font-size=\"14.00\">b</text>\n",
       "</g>\n",
       "<!-- b_G2&#45;&gt;CuccaroADD -->\n",
       "<g id=\"edge2\" class=\"edge\">\n",
       "<title>b_G2:e-&gt;CuccaroADD:w</title>\n",
       "<path fill=\"none\" stroke=\"black\" d=\"M54,-18C70.79,-18 73.03,-31.52 88.23,-32.99\"/>\n",
       "<ellipse fill=\"black\" stroke=\"black\" cx=\"89.5\" cy=\"-33.05\" rx=\"1\" ry=\"1\"/>\n",
       "<text text-anchor=\"middle\" x=\"72.5\" y=\"-27.31\" font-family=\"Times,serif\" font-size=\"10.00\">n + 1</text>\n",
       "</g>\n",
       "<!-- a_G4 -->\n",
       "<g id=\"node4\" class=\"node\">\n",
       "<title>a_G4</title>\n",
       "<text text-anchor=\"middle\" x=\"217.25\" y=\"-66.95\" font-family=\"Times,serif\" font-size=\"14.00\">a</text>\n",
       "</g>\n",
       "<!-- CuccaroADD&#45;&gt;a_G4 -->\n",
       "<g id=\"edge3\" class=\"edge\">\n",
       "<title>CuccaroADD:e-&gt;a_G4:w</title>\n",
       "<path fill=\"none\" stroke=\"black\" d=\"M153.25,-55.62C170.25,-55.62 172.1,-70.26 187.45,-71.86\"/>\n",
       "<ellipse fill=\"black\" stroke=\"black\" cx=\"188.75\" cy=\"-71.92\" rx=\"1\" ry=\"1\"/>\n",
       "<text text-anchor=\"middle\" x=\"171.75\" y=\"-65.56\" font-family=\"Times,serif\" font-size=\"10.00\">n</text>\n",
       "</g>\n",
       "<!-- b_G5 -->\n",
       "<g id=\"node5\" class=\"node\">\n",
       "<title>b_G5</title>\n",
       "<text text-anchor=\"middle\" x=\"217.25\" y=\"-12.95\" font-family=\"Times,serif\" font-size=\"14.00\">b</text>\n",
       "</g>\n",
       "<!-- CuccaroADD&#45;&gt;b_G5 -->\n",
       "<g id=\"edge4\" class=\"edge\">\n",
       "<title>CuccaroADD:e-&gt;b_G5:w</title>\n",
       "<path fill=\"none\" stroke=\"black\" d=\"M153.25,-33.12C170.04,-33.12 172.28,-19.61 187.48,-18.13\"/>\n",
       "<ellipse fill=\"black\" stroke=\"black\" cx=\"188.75\" cy=\"-18.07\" rx=\"1\" ry=\"1\"/>\n",
       "<text text-anchor=\"middle\" x=\"171.75\" y=\"-27.31\" font-family=\"Times,serif\" font-size=\"10.00\">n + 1</text>\n",
       "</g>\n",
       "</g>\n",
       "</svg>"
      ],
      "text/plain": [
       "<IPython.core.display.SVG object>"
      ]
     },
     "metadata": {},
     "output_type": "display_data"
    }
   ],
   "source": [
    "show_bloq(cadder_n)"
   ]
  },
  {
   "cell_type": "markdown",
   "id": "f1a51ffb",
   "metadata": {
    "cq.autogen": "AddK.call_graph.md"
   },
   "source": [
    "### Call Graph"
   ]
  },
  {
   "cell_type": "code",
   "execution_count": 7,
   "id": "76a16025",
   "metadata": {},
   "outputs": [
    {
     "data": {
      "image/svg+xml": [
       "<svg xmlns=\"http://www.w3.org/2000/svg\" xmlns:xlink=\"http://www.w3.org/1999/xlink\" width=\"153pt\" height=\"221pt\" viewBox=\"0.00 0.00 152.88 221.00\">\n",
       "<g id=\"graph0\" class=\"graph\" transform=\"scale(1 1) rotate(0) translate(4 217)\">\n",
       "<title>counts</title>\n",
       "<polygon fill=\"white\" stroke=\"none\" points=\"-4,4 -4,-217 148.88,-217 148.88,4 -4,4\"/>\n",
       "<!-- b0 -->\n",
       "<g id=\"node1\" class=\"node\">\n",
       "<title>b0</title>\n",
       "<polygon fill=\"none\" stroke=\"black\" points=\"11.75,-183.38 11.75,-206.62 80,-206.62 80,-183.38 11.75,-183.38\"/>\n",
       "<text text-anchor=\"start\" x=\"17.75\" y=\"-191.12\" font-family=\"Times,serif\" font-size=\"10.00\">CuccaroADD</text>\n",
       "</g>\n",
       "<!-- b1 -->\n",
       "<g id=\"node2\" class=\"node\">\n",
       "<title>b1</title>\n",
       "<polygon fill=\"none\" stroke=\"black\" points=\"99.88,-94.88 99.88,-118.12 135.88,-118.12 135.88,-94.88 99.88,-94.88\"/>\n",
       "<text text-anchor=\"start\" x=\"105.88\" y=\"-102.62\" font-family=\"Times,serif\" font-size=\"10.00\">UMA</text>\n",
       "</g>\n",
       "<!-- b0&#45;&gt;b1 -->\n",
       "<g id=\"edge1\" class=\"edge\">\n",
       "<title>b0-&gt;b1</title>\n",
       "<path fill=\"none\" stroke=\"black\" d=\"M59.76,-177.32C70.15,-164.84 84.55,-147.53 96.42,-133.27\"/>\n",
       "<polygon fill=\"black\" stroke=\"black\" points=\"99.11,-135.51 102.82,-125.59 93.73,-131.03 99.11,-135.51\"/>\n",
       "<text text-anchor=\"middle\" x=\"91.7\" y=\"-145.7\" font-family=\"Times,serif\" font-size=\"14.00\">5</text>\n",
       "</g>\n",
       "<!-- b2 -->\n",
       "<g id=\"node3\" class=\"node\">\n",
       "<title>b2</title>\n",
       "<polygon fill=\"none\" stroke=\"black\" points=\"29.75,-94.88 29.75,-118.12 62,-118.12 62,-94.88 29.75,-94.88\"/>\n",
       "<text text-anchor=\"start\" x=\"35.75\" y=\"-102.62\" font-family=\"Times,serif\" font-size=\"10.00\">MAJ</text>\n",
       "</g>\n",
       "<!-- b0&#45;&gt;b2 -->\n",
       "<g id=\"edge3\" class=\"edge\">\n",
       "<title>b0-&gt;b2</title>\n",
       "<path fill=\"none\" stroke=\"black\" d=\"M45.88,-177.32C45.88,-165.55 45.88,-149.49 45.88,-135.74\"/>\n",
       "<polygon fill=\"black\" stroke=\"black\" points=\"49.38,-135.94 45.88,-125.94 42.38,-135.94 49.38,-135.94\"/>\n",
       "<text text-anchor=\"middle\" x=\"49.25\" y=\"-145.7\" font-family=\"Times,serif\" font-size=\"14.00\">5</text>\n",
       "</g>\n",
       "<!-- b3 -->\n",
       "<g id=\"node4\" class=\"node\">\n",
       "<title>b3</title>\n",
       "<polygon fill=\"none\" stroke=\"black\" points=\"8,-6.38 8,-29.62 47.75,-29.62 47.75,-6.38 8,-6.38\"/>\n",
       "<text text-anchor=\"start\" x=\"14\" y=\"-14.12\" font-family=\"Times,serif\" font-size=\"10.00\">CNOT</text>\n",
       "</g>\n",
       "<!-- b0&#45;&gt;b3 -->\n",
       "<g id=\"edge2\" class=\"edge\">\n",
       "<title>b0-&gt;b3</title>\n",
       "<path fill=\"none\" stroke=\"black\" d=\"M31.68,-177C21.51,-163.67 8.68,-144.13 3.12,-124.5 -4.33,-98.14 4.7,-67.63 13.88,-46.23\"/>\n",
       "<polygon fill=\"black\" stroke=\"black\" points=\"16.98,-47.85 17.97,-37.31 10.62,-44.93 16.98,-47.85\"/>\n",
       "<text text-anchor=\"middle\" x=\"6.5\" y=\"-101.45\" font-family=\"Times,serif\" font-size=\"14.00\">1</text>\n",
       "</g>\n",
       "<!-- b1&#45;&gt;b3 -->\n",
       "<g id=\"edge5\" class=\"edge\">\n",
       "<title>b1-&gt;b3</title>\n",
       "<path fill=\"none\" stroke=\"black\" d=\"M101.17,-88.64C91.04,-78.51 77.82,-65.41 65.88,-54 62.37,-50.65 58.66,-47.16 54.97,-43.74\"/>\n",
       "<polygon fill=\"black\" stroke=\"black\" points=\"57.39,-41.2 47.67,-36.98 52.64,-46.34 57.39,-41.2\"/>\n",
       "<text text-anchor=\"middle\" x=\"85.14\" y=\"-57.2\" font-family=\"Times,serif\" font-size=\"14.00\">2</text>\n",
       "</g>\n",
       "<!-- b4 -->\n",
       "<g id=\"node5\" class=\"node\">\n",
       "<title>b4</title>\n",
       "<polygon fill=\"none\" stroke=\"black\" points=\"90,-6.38 90,-29.62 129.75,-29.62 129.75,-6.38 90,-6.38\"/>\n",
       "<text text-anchor=\"start\" x=\"96\" y=\"-14.12\" font-family=\"Times,serif\" font-size=\"10.00\">Toffoli</text>\n",
       "</g>\n",
       "<!-- b1&#45;&gt;b4 -->\n",
       "<g id=\"edge4\" class=\"edge\">\n",
       "<title>b1-&gt;b4</title>\n",
       "<path fill=\"none\" stroke=\"black\" d=\"M116.33,-88.82C115.24,-77.05 113.76,-60.99 112.49,-47.24\"/>\n",
       "<polygon fill=\"black\" stroke=\"black\" points=\"115.99,-47.06 111.58,-37.43 109.02,-47.71 115.99,-47.06\"/>\n",
       "<text text-anchor=\"middle\" x=\"117.97\" y=\"-57.2\" font-family=\"Times,serif\" font-size=\"14.00\">1</text>\n",
       "</g>\n",
       "<!-- b2&#45;&gt;b3 -->\n",
       "<g id=\"edge6\" class=\"edge\">\n",
       "<title>b2-&gt;b3</title>\n",
       "<path fill=\"none\" stroke=\"black\" d=\"M37.49,-88.8C35.01,-83.12 32.57,-76.66 31.12,-70.5 29.38,-63.06 28.43,-54.86 27.95,-47.23\"/>\n",
       "<polygon fill=\"black\" stroke=\"black\" points=\"31.45,-47.28 27.58,-37.42 24.46,-47.54 31.45,-47.28\"/>\n",
       "<text text-anchor=\"middle\" x=\"34.5\" y=\"-57.2\" font-family=\"Times,serif\" font-size=\"14.00\">2</text>\n",
       "</g>\n",
       "<!-- b2&#45;&gt;b4 -->\n",
       "<g id=\"edge7\" class=\"edge\">\n",
       "<title>b2-&gt;b4</title>\n",
       "<path fill=\"none\" stroke=\"black\" d=\"M47.94,-88.97C49.93,-78.22 53.78,-64.34 61.12,-54 64.47,-49.29 68.66,-44.98 73.16,-41.12\"/>\n",
       "<polygon fill=\"black\" stroke=\"black\" points=\"75.09,-44.05 80.87,-35.17 70.82,-38.5 75.09,-44.05\"/>\n",
       "<text text-anchor=\"middle\" x=\"64.5\" y=\"-57.2\" font-family=\"Times,serif\" font-size=\"14.00\">1</text>\n",
       "</g>\n",
       "</g>\n",
       "</svg>"
      ],
      "text/plain": [
       "<IPython.core.display.SVG object>"
      ]
     },
     "metadata": {},
     "output_type": "display_data"
    },
    {
     "data": {
      "text/markdown": [
       "#### Counts totals:\n",
       " - `CNOT`: 21\n",
       " - `Toffoli`: 10"
      ],
      "text/plain": [
       "<IPython.core.display.Markdown object>"
      ]
     },
     "metadata": {},
     "output_type": "display_data"
    }
   ],
   "source": [
    "cadder_g, cadder_sigma = cadder_5.call_graph()\n",
    "show_call_graph(cadder_g)\n",
    "show_counts_sigma(cadder_sigma)"
   ]
  },
  {
   "cell_type": "code",
   "execution_count": 8,
   "id": "cbfc2d39",
   "metadata": {
    "cq.autogen": "AddK.call_graph.py"
   },
   "outputs": [
    {
     "data": {
      "image/svg+xml": [
       "<svg xmlns=\"http://www.w3.org/2000/svg\" xmlns:xlink=\"http://www.w3.org/1999/xlink\" width=\"153pt\" height=\"221pt\" viewBox=\"0.00 0.00 152.88 221.00\">\n",
       "<g id=\"graph0\" class=\"graph\" transform=\"scale(1 1) rotate(0) translate(4 217)\">\n",
       "<title>counts</title>\n",
       "<polygon fill=\"white\" stroke=\"none\" points=\"-4,4 -4,-217 148.88,-217 148.88,4 -4,4\"/>\n",
       "<!-- b0 -->\n",
       "<g id=\"node1\" class=\"node\">\n",
       "<title>b0</title>\n",
       "<polygon fill=\"none\" stroke=\"black\" points=\"11.75,-183.38 11.75,-206.62 80,-206.62 80,-183.38 11.75,-183.38\"/>\n",
       "<text text-anchor=\"start\" x=\"17.75\" y=\"-191.12\" font-family=\"Times,serif\" font-size=\"10.00\">CuccaroADD</text>\n",
       "</g>\n",
       "<!-- b1 -->\n",
       "<g id=\"node2\" class=\"node\">\n",
       "<title>b1</title>\n",
       "<polygon fill=\"none\" stroke=\"black\" points=\"99.88,-94.88 99.88,-118.12 135.88,-118.12 135.88,-94.88 99.88,-94.88\"/>\n",
       "<text text-anchor=\"start\" x=\"105.88\" y=\"-102.62\" font-family=\"Times,serif\" font-size=\"10.00\">UMA</text>\n",
       "</g>\n",
       "<!-- b0&#45;&gt;b1 -->\n",
       "<g id=\"edge1\" class=\"edge\">\n",
       "<title>b0-&gt;b1</title>\n",
       "<path fill=\"none\" stroke=\"black\" d=\"M59.76,-177.32C70.15,-164.84 84.55,-147.53 96.42,-133.27\"/>\n",
       "<polygon fill=\"black\" stroke=\"black\" points=\"99.11,-135.51 102.82,-125.59 93.73,-131.03 99.11,-135.51\"/>\n",
       "<text text-anchor=\"middle\" x=\"91.7\" y=\"-145.7\" font-family=\"Times,serif\" font-size=\"14.00\">n</text>\n",
       "</g>\n",
       "<!-- b2 -->\n",
       "<g id=\"node3\" class=\"node\">\n",
       "<title>b2</title>\n",
       "<polygon fill=\"none\" stroke=\"black\" points=\"29.75,-94.88 29.75,-118.12 62,-118.12 62,-94.88 29.75,-94.88\"/>\n",
       "<text text-anchor=\"start\" x=\"35.75\" y=\"-102.62\" font-family=\"Times,serif\" font-size=\"10.00\">MAJ</text>\n",
       "</g>\n",
       "<!-- b0&#45;&gt;b2 -->\n",
       "<g id=\"edge3\" class=\"edge\">\n",
       "<title>b0-&gt;b2</title>\n",
       "<path fill=\"none\" stroke=\"black\" d=\"M45.88,-177.32C45.88,-165.55 45.88,-149.49 45.88,-135.74\"/>\n",
       "<polygon fill=\"black\" stroke=\"black\" points=\"49.38,-135.94 45.88,-125.94 42.38,-135.94 49.38,-135.94\"/>\n",
       "<text text-anchor=\"middle\" x=\"49.25\" y=\"-145.7\" font-family=\"Times,serif\" font-size=\"14.00\">n</text>\n",
       "</g>\n",
       "<!-- b3 -->\n",
       "<g id=\"node4\" class=\"node\">\n",
       "<title>b3</title>\n",
       "<polygon fill=\"none\" stroke=\"black\" points=\"8,-6.38 8,-29.62 47.75,-29.62 47.75,-6.38 8,-6.38\"/>\n",
       "<text text-anchor=\"start\" x=\"14\" y=\"-14.12\" font-family=\"Times,serif\" font-size=\"10.00\">CNOT</text>\n",
       "</g>\n",
       "<!-- b0&#45;&gt;b3 -->\n",
       "<g id=\"edge2\" class=\"edge\">\n",
       "<title>b0-&gt;b3</title>\n",
       "<path fill=\"none\" stroke=\"black\" d=\"M31.68,-177C21.51,-163.67 8.68,-144.13 3.12,-124.5 -4.33,-98.14 4.7,-67.63 13.88,-46.23\"/>\n",
       "<polygon fill=\"black\" stroke=\"black\" points=\"16.98,-47.85 17.97,-37.31 10.62,-44.93 16.98,-47.85\"/>\n",
       "<text text-anchor=\"middle\" x=\"6.5\" y=\"-101.45\" font-family=\"Times,serif\" font-size=\"14.00\">1</text>\n",
       "</g>\n",
       "<!-- b1&#45;&gt;b3 -->\n",
       "<g id=\"edge5\" class=\"edge\">\n",
       "<title>b1-&gt;b3</title>\n",
       "<path fill=\"none\" stroke=\"black\" d=\"M101.17,-88.64C91.04,-78.51 77.82,-65.41 65.88,-54 62.37,-50.65 58.66,-47.16 54.97,-43.74\"/>\n",
       "<polygon fill=\"black\" stroke=\"black\" points=\"57.39,-41.2 47.67,-36.98 52.64,-46.34 57.39,-41.2\"/>\n",
       "<text text-anchor=\"middle\" x=\"85.14\" y=\"-57.2\" font-family=\"Times,serif\" font-size=\"14.00\">2</text>\n",
       "</g>\n",
       "<!-- b4 -->\n",
       "<g id=\"node5\" class=\"node\">\n",
       "<title>b4</title>\n",
       "<polygon fill=\"none\" stroke=\"black\" points=\"90,-6.38 90,-29.62 129.75,-29.62 129.75,-6.38 90,-6.38\"/>\n",
       "<text text-anchor=\"start\" x=\"96\" y=\"-14.12\" font-family=\"Times,serif\" font-size=\"10.00\">Toffoli</text>\n",
       "</g>\n",
       "<!-- b1&#45;&gt;b4 -->\n",
       "<g id=\"edge4\" class=\"edge\">\n",
       "<title>b1-&gt;b4</title>\n",
       "<path fill=\"none\" stroke=\"black\" d=\"M116.33,-88.82C115.24,-77.05 113.76,-60.99 112.49,-47.24\"/>\n",
       "<polygon fill=\"black\" stroke=\"black\" points=\"115.99,-47.06 111.58,-37.43 109.02,-47.71 115.99,-47.06\"/>\n",
       "<text text-anchor=\"middle\" x=\"117.97\" y=\"-57.2\" font-family=\"Times,serif\" font-size=\"14.00\">1</text>\n",
       "</g>\n",
       "<!-- b2&#45;&gt;b3 -->\n",
       "<g id=\"edge6\" class=\"edge\">\n",
       "<title>b2-&gt;b3</title>\n",
       "<path fill=\"none\" stroke=\"black\" d=\"M37.49,-88.8C35.01,-83.12 32.57,-76.66 31.12,-70.5 29.38,-63.06 28.43,-54.86 27.95,-47.23\"/>\n",
       "<polygon fill=\"black\" stroke=\"black\" points=\"31.45,-47.28 27.58,-37.42 24.46,-47.54 31.45,-47.28\"/>\n",
       "<text text-anchor=\"middle\" x=\"34.5\" y=\"-57.2\" font-family=\"Times,serif\" font-size=\"14.00\">2</text>\n",
       "</g>\n",
       "<!-- b2&#45;&gt;b4 -->\n",
       "<g id=\"edge7\" class=\"edge\">\n",
       "<title>b2-&gt;b4</title>\n",
       "<path fill=\"none\" stroke=\"black\" d=\"M47.94,-88.97C49.93,-78.22 53.78,-64.34 61.12,-54 64.47,-49.29 68.66,-44.98 73.16,-41.12\"/>\n",
       "<polygon fill=\"black\" stroke=\"black\" points=\"75.09,-44.05 80.87,-35.17 70.82,-38.5 75.09,-44.05\"/>\n",
       "<text text-anchor=\"middle\" x=\"64.5\" y=\"-57.2\" font-family=\"Times,serif\" font-size=\"14.00\">1</text>\n",
       "</g>\n",
       "</g>\n",
       "</svg>"
      ],
      "text/plain": [
       "<IPython.core.display.SVG object>"
      ]
     },
     "metadata": {},
     "output_type": "display_data"
    },
    {
     "data": {
      "text/markdown": [
       "#### Counts totals:\n",
       " - `CNOT`: $\\displaystyle 4 n + 1$\n",
       " - `Toffoli`: $\\displaystyle 2 n$"
      ],
      "text/plain": [
       "<IPython.core.display.Markdown object>"
      ]
     },
     "metadata": {},
     "output_type": "display_data"
    }
   ],
   "source": [
    "cadder_g, cadder_sigma = cadder_n.call_graph()\n",
    "show_call_graph(cadder_g)\n",
    "show_counts_sigma(cadder_sigma)"
   ]
  },
  {
   "cell_type": "markdown",
   "id": "0de36a36",
   "metadata": {},
   "source": [
    "### Bloq Decomposition"
   ]
  },
  {
   "cell_type": "code",
   "execution_count": 9,
   "id": "82c1ca34",
   "metadata": {},
   "outputs": [
    {
     "data": {
      "image/png": "[encoded data removed]",
      "text/plain": [
       "<Figure size 1000x675 with 1 Axes>"
      ]
     },
     "metadata": {},
     "output_type": "display_data"
    }
   ],
   "source": [
    "cbloq = cadder_5.decompose_bloq()\n",
    "show_bloq(cbloq, 'musical_score')"
   ]
  },
  {
   "cell_type": "code",
   "execution_count": 10,
   "id": "10161fc9",
   "metadata": {},
   "outputs": [
    {
     "name": "stdout",
     "output_type": "stream",
     "text": [
      "Input: 1, 5\n",
      "Output: (1, 6)\n",
      "Reference: 6\n",
      "True\n",
      "True\n",
      "Input: 2, 3\n",
      "Output: (2, 5)\n",
      "Reference: 5\n",
      "True\n",
      "True\n",
      "Input: 3, 4\n",
      "Output: (3, 7)\n",
      "Reference: 7\n",
      "True\n",
      "True\n",
      "Input: 4, 5\n",
      "Output: (4, 9)\n",
      "Reference: 9\n",
      "True\n",
      "True\n"
     ]
    }
   ],
   "source": [
    "bloq = CuccaroADD(6)\n",
    "cbloq = bloq.decompose_bloq()\n",
    "for a, b in [(1,5), (2,3), (3,4), (4,5)]:\n",
    "  ref_output = a + b\n",
    "  circuit_output = cbloq.call_classically(a=a, b=b)\n",
    "  print(f\"Input: {a}, {b}\")\n",
    "  print(f\"Output: {circuit_output}\")\n",
    "  print(f\"Reference: {ref_output}\")\n",
    "  print(circuit_output[1] == ref_output)\n",
    "  print(circuit_output[0] == a)\n",
    "  "
   ]
  },
  {
   "cell_type": "code",
   "execution_count": 11,
   "id": "e734a1d9",
   "metadata": {},
   "outputs": [],
   "source": [
    "t = bloq.tensor_contract()"
   ]
  }
 ],
 "metadata": {
  "kernelspec": {
   "display_name": "qualtran",
   "language": "python",
   "name": "python3"
  },
  "language_info": {
   "codemirror_mode": {
    "name": "ipython",
    "version": 3
   },
   "file_extension": ".py",
   "mimetype": "text/x-python",
   "name": "python",
   "nbconvert_exporter": "python",
   "pygments_lexer": "ipython3",
   "version": "3.13.4"
  }
 },
 "nbformat": 4,
 "nbformat_minor": 5
}
