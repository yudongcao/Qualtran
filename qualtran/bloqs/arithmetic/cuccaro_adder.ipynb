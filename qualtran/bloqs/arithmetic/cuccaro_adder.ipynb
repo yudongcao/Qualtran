{
 "cells": [
  {
   "cell_type": "markdown",
   "id": "c9483021",
   "metadata": {
    "cq.autogen": "title_cell"
   },
   "source": [
    "# Cuccaro adder"
   ]
  },
  {
   "cell_type": "code",
   "execution_count": 2,
   "id": "2dd760e6",
   "metadata": {
    "cq.autogen": "top_imports"
   },
   "outputs": [
    {
     "name": "stderr",
     "output_type": "stream",
     "text": [
      "/opt/anaconda3/envs/qualtran/lib/python3.13/site-packages/cotengra/hyperoptimizers/hyper.py:54: UserWarning: Couldn't find `optuna`, `cmaes`, or `nevergrad` so will use completely random sampling in place of hyper-optimization.\n",
      "  warnings.warn(\n",
      "/opt/anaconda3/envs/qualtran/lib/python3.13/site-packages/cotengra/hyperoptimizers/hyper.py:36: UserWarning: Couldn't import `kahypar` - skipping from default hyper optimizer and using basic `labels` method instead.\n",
      "  warnings.warn(\n",
      "/opt/anaconda3/envs/qualtran/lib/python3.13/site-packages/cotengra/hyperoptimizers/hyper.py:73: UserWarning: Couldn't find `optuna`, `cmaes`, or `nevergrad` so will use completely random sampling in place of hyper-optimization.\n",
      "  warnings.warn(\n"
     ]
    }
   ],
   "source": [
    "from qualtran import Bloq, CompositeBloq, BloqBuilder, Signature, Register\n",
    "from qualtran import QBit, QInt, QUInt, QAny\n",
    "from qualtran.drawing import show_bloq, show_call_graph, show_counts_sigma\n",
    "from typing import *\n",
    "import numpy as np\n",
    "import sympy\n",
    "import cirq\n",
    "from cuccaro_adder import CuccaroADD, MAJ, UMA, MyCuccaroADD"
   ]
  },
  {
   "cell_type": "markdown",
   "id": "95d8998c",
   "metadata": {
    "cq.autogen": "Add.bloq_doc.md"
   },
   "source": [
    "## `CuccaroADD`\n",
    "An n-bit addition gate by an inplace ripple carry addition method.\n",
    "\n",
    "Implements $U|a\\rangle|b\\rangle \\rightarrow |a\\rangle|a+b\\rangle$ \n",
    "#### Parameters\n",
    " - `bitsize`: Size of the inputs (`a`= bitsize and `b` = bitsize+1)\n",
    "\n",
    "#### Registers\n",
    " - `a`: A QInt.(bitsize)-sized input register.\n",
    " - `b`: A QInt.(bitsize+1)-sized input register.\n",
    "\n",
    "#### References\n",
    " - [A new quantum ripple-carry addition circuit](https://arxiv.org/abs/quant-ph/0410184). \n"
   ]
  },
  {
   "cell_type": "code",
   "execution_count": 3,
   "id": "50bdb8fb",
   "metadata": {},
   "outputs": [
    {
     "data": {
      "image/png": "[encoded data removed]",
      "text/plain": [
       "<Figure size 480x280 with 1 Axes>"
      ]
     },
     "metadata": {},
     "output_type": "display_data"
    }
   ],
   "source": [
    "show_bloq(MAJ().decompose_bloq(), 'musical_score')"
   ]
  },
  {
   "cell_type": "code",
   "execution_count": 4,
   "id": "ea3981fb",
   "metadata": {},
   "outputs": [
    {
     "data": {
      "image/png": "[encoded data removed]",
      "text/plain": [
       "<Figure size 480x280 with 1 Axes>"
      ]
     },
     "metadata": {},
     "output_type": "display_data"
    }
   ],
   "source": [
    "show_bloq(UMA().decompose_bloq(), 'musical_score')"
   ]
  },
  {
   "cell_type": "code",
   "execution_count": 5,
   "id": "c5045c33",
   "metadata": {},
   "outputs": [],
   "source": [
    "cadder_5 = CuccaroADD(5)\n",
    "cadder_n = CuccaroADD(sympy.Symbol('n'))"
   ]
  },
  {
   "cell_type": "code",
   "execution_count": 6,
   "id": "9b151418",
   "metadata": {},
   "outputs": [
    {
     "data": {
      "image/svg+xml": [
       "<svg xmlns=\"http://www.w3.org/2000/svg\" xmlns:xlink=\"http://www.w3.org/1999/xlink\" width=\"252pt\" height=\"98pt\" viewBox=\"0.00 0.00 252.25 98.00\">\n",
       "<g id=\"graph0\" class=\"graph\" transform=\"scale(1 1) rotate(0) translate(4 94)\">\n",
       "<title>my_graph</title>\n",
       "<polygon fill=\"white\" stroke=\"none\" points=\"-4,4 -4,-94 248.25,-94 248.25,4 -4,4\"/>\n",
       "<!-- a_G5 -->\n",
       "<g id=\"node1\" class=\"node\">\n",
       "<title>a_G5</title>\n",
       "<text text-anchor=\"middle\" x=\"27\" y=\"-66.95\" font-family=\"Times,serif\" font-size=\"14.00\">a</text>\n",
       "</g>\n",
       "<!-- CuccaroADD -->\n",
       "<g id=\"node3\" class=\"node\">\n",
       "<title>CuccaroADD</title>\n",
       "<polygon fill=\"none\" stroke=\"black\" points=\"91,-66.88 91,-84.12 153.25,-84.12 153.25,-66.88 91,-66.88\"/>\n",
       "<text text-anchor=\"start\" x=\"94\" y=\"-71.62\" font-family=\"Times,serif\" font-size=\"10.00\">CuccaroADD</text>\n",
       "<polygon fill=\"none\" stroke=\"black\" points=\"91,-44.38 91,-66.88 153.25,-66.88 153.25,-44.38 91,-44.38\"/>\n",
       "<text text-anchor=\"start\" x=\"119.12\" y=\"-50.58\" font-family=\"Times,serif\" font-size=\"14.00\">a</text>\n",
       "<polygon fill=\"none\" stroke=\"black\" points=\"91,-21.88 91,-44.38 153.25,-44.38 153.25,-21.88 91,-21.88\"/>\n",
       "<text text-anchor=\"start\" x=\"118.75\" y=\"-28.07\" font-family=\"Times,serif\" font-size=\"14.00\">b</text>\n",
       "</g>\n",
       "<!-- a_G5&#45;&gt;CuccaroADD -->\n",
       "<g id=\"edge1\" class=\"edge\">\n",
       "<title>a_G5:e-&gt;CuccaroADD:w</title>\n",
       "<path fill=\"none\" stroke=\"black\" d=\"M54,-72C71,-72 72.85,-57.37 88.2,-55.77\"/>\n",
       "<ellipse fill=\"black\" stroke=\"black\" cx=\"89.5\" cy=\"-55.7\" rx=\"1\" ry=\"1\"/>\n",
       "<text text-anchor=\"middle\" x=\"72.5\" y=\"-65.56\" font-family=\"Times,serif\" font-size=\"10.00\">5</text>\n",
       "</g>\n",
       "<!-- b_G4 -->\n",
       "<g id=\"node2\" class=\"node\">\n",
       "<title>b_G4</title>\n",
       "<text text-anchor=\"middle\" x=\"27\" y=\"-12.95\" font-family=\"Times,serif\" font-size=\"14.00\">b</text>\n",
       "</g>\n",
       "<!-- b_G4&#45;&gt;CuccaroADD -->\n",
       "<g id=\"edge2\" class=\"edge\">\n",
       "<title>b_G4:e-&gt;CuccaroADD:w</title>\n",
       "<path fill=\"none\" stroke=\"black\" d=\"M54,-18C70.79,-18 73.03,-31.52 88.23,-32.99\"/>\n",
       "<ellipse fill=\"black\" stroke=\"black\" cx=\"89.5\" cy=\"-33.05\" rx=\"1\" ry=\"1\"/>\n",
       "<text text-anchor=\"middle\" x=\"72.5\" y=\"-27.31\" font-family=\"Times,serif\" font-size=\"10.00\">6</text>\n",
       "</g>\n",
       "<!-- a_G3 -->\n",
       "<g id=\"node4\" class=\"node\">\n",
       "<title>a_G3</title>\n",
       "<text text-anchor=\"middle\" x=\"217.25\" y=\"-66.95\" font-family=\"Times,serif\" font-size=\"14.00\">a</text>\n",
       "</g>\n",
       "<!-- CuccaroADD&#45;&gt;a_G3 -->\n",
       "<g id=\"edge3\" class=\"edge\">\n",
       "<title>CuccaroADD:e-&gt;a_G3:w</title>\n",
       "<path fill=\"none\" stroke=\"black\" d=\"M153.25,-55.62C170.25,-55.62 172.1,-70.26 187.45,-71.86\"/>\n",
       "<ellipse fill=\"black\" stroke=\"black\" cx=\"188.75\" cy=\"-71.92\" rx=\"1\" ry=\"1\"/>\n",
       "<text text-anchor=\"middle\" x=\"171.75\" y=\"-65.56\" font-family=\"Times,serif\" font-size=\"10.00\">5</text>\n",
       "</g>\n",
       "<!-- b_G0 -->\n",
       "<g id=\"node5\" class=\"node\">\n",
       "<title>b_G0</title>\n",
       "<text text-anchor=\"middle\" x=\"217.25\" y=\"-12.95\" font-family=\"Times,serif\" font-size=\"14.00\">b</text>\n",
       "</g>\n",
       "<!-- CuccaroADD&#45;&gt;b_G0 -->\n",
       "<g id=\"edge4\" class=\"edge\">\n",
       "<title>CuccaroADD:e-&gt;b_G0:w</title>\n",
       "<path fill=\"none\" stroke=\"black\" d=\"M153.25,-33.12C170.04,-33.12 172.28,-19.61 187.48,-18.13\"/>\n",
       "<ellipse fill=\"black\" stroke=\"black\" cx=\"188.75\" cy=\"-18.07\" rx=\"1\" ry=\"1\"/>\n",
       "<text text-anchor=\"middle\" x=\"171.75\" y=\"-27.31\" font-family=\"Times,serif\" font-size=\"10.00\">6</text>\n",
       "</g>\n",
       "</g>\n",
       "</svg>"
      ],
      "text/plain": [
       "<IPython.core.display.SVG object>"
      ]
     },
     "metadata": {},
     "output_type": "display_data"
    }
   ],
   "source": [
    "show_bloq(cadder_5)"
   ]
  },
  {
   "cell_type": "code",
   "execution_count": 7,
   "id": "1686cd40",
   "metadata": {},
   "outputs": [
    {
     "data": {
      "image/svg+xml": [
       "<svg xmlns=\"http://www.w3.org/2000/svg\" xmlns:xlink=\"http://www.w3.org/1999/xlink\" width=\"252pt\" height=\"98pt\" viewBox=\"0.00 0.00 252.25 98.00\">\n",
       "<g id=\"graph0\" class=\"graph\" transform=\"scale(1 1) rotate(0) translate(4 94)\">\n",
       "<title>my_graph</title>\n",
       "<polygon fill=\"white\" stroke=\"none\" points=\"-4,4 -4,-94 248.25,-94 248.25,4 -4,4\"/>\n",
       "<!-- a_G2 -->\n",
       "<g id=\"node1\" class=\"node\">\n",
       "<title>a_G2</title>\n",
       "<text text-anchor=\"middle\" x=\"27\" y=\"-66.95\" font-family=\"Times,serif\" font-size=\"14.00\">a</text>\n",
       "</g>\n",
       "<!-- CuccaroADD -->\n",
       "<g id=\"node3\" class=\"node\">\n",
       "<title>CuccaroADD</title>\n",
       "<polygon fill=\"none\" stroke=\"black\" points=\"91,-66.88 91,-84.12 153.25,-84.12 153.25,-66.88 91,-66.88\"/>\n",
       "<text text-anchor=\"start\" x=\"94\" y=\"-71.62\" font-family=\"Times,serif\" font-size=\"10.00\">CuccaroADD</text>\n",
       "<polygon fill=\"none\" stroke=\"black\" points=\"91,-44.38 91,-66.88 153.25,-66.88 153.25,-44.38 91,-44.38\"/>\n",
       "<text text-anchor=\"start\" x=\"119.12\" y=\"-50.58\" font-family=\"Times,serif\" font-size=\"14.00\">a</text>\n",
       "<polygon fill=\"none\" stroke=\"black\" points=\"91,-21.88 91,-44.38 153.25,-44.38 153.25,-21.88 91,-21.88\"/>\n",
       "<text text-anchor=\"start\" x=\"118.75\" y=\"-28.07\" font-family=\"Times,serif\" font-size=\"14.00\">b</text>\n",
       "</g>\n",
       "<!-- a_G2&#45;&gt;CuccaroADD -->\n",
       "<g id=\"edge1\" class=\"edge\">\n",
       "<title>a_G2:e-&gt;CuccaroADD:w</title>\n",
       "<path fill=\"none\" stroke=\"black\" d=\"M54,-72C71,-72 72.85,-57.37 88.2,-55.77\"/>\n",
       "<ellipse fill=\"black\" stroke=\"black\" cx=\"89.5\" cy=\"-55.7\" rx=\"1\" ry=\"1\"/>\n",
       "<text text-anchor=\"middle\" x=\"72.5\" y=\"-65.56\" font-family=\"Times,serif\" font-size=\"10.00\">n</text>\n",
       "</g>\n",
       "<!-- b_G3 -->\n",
       "<g id=\"node2\" class=\"node\">\n",
       "<title>b_G3</title>\n",
       "<text text-anchor=\"middle\" x=\"27\" y=\"-12.95\" font-family=\"Times,serif\" font-size=\"14.00\">b</text>\n",
       "</g>\n",
       "<!-- b_G3&#45;&gt;CuccaroADD -->\n",
       "<g id=\"edge2\" class=\"edge\">\n",
       "<title>b_G3:e-&gt;CuccaroADD:w</title>\n",
       "<path fill=\"none\" stroke=\"black\" d=\"M54,-18C70.79,-18 73.03,-31.52 88.23,-32.99\"/>\n",
       "<ellipse fill=\"black\" stroke=\"black\" cx=\"89.5\" cy=\"-33.05\" rx=\"1\" ry=\"1\"/>\n",
       "<text text-anchor=\"middle\" x=\"72.5\" y=\"-27.31\" font-family=\"Times,serif\" font-size=\"10.00\">n + 1</text>\n",
       "</g>\n",
       "<!-- a_G0 -->\n",
       "<g id=\"node4\" class=\"node\">\n",
       "<title>a_G0</title>\n",
       "<text text-anchor=\"middle\" x=\"217.25\" y=\"-66.95\" font-family=\"Times,serif\" font-size=\"14.00\">a</text>\n",
       "</g>\n",
       "<!-- CuccaroADD&#45;&gt;a_G0 -->\n",
       "<g id=\"edge3\" class=\"edge\">\n",
       "<title>CuccaroADD:e-&gt;a_G0:w</title>\n",
       "<path fill=\"none\" stroke=\"black\" d=\"M153.25,-55.62C170.25,-55.62 172.1,-70.26 187.45,-71.86\"/>\n",
       "<ellipse fill=\"black\" stroke=\"black\" cx=\"188.75\" cy=\"-71.92\" rx=\"1\" ry=\"1\"/>\n",
       "<text text-anchor=\"middle\" x=\"171.75\" y=\"-65.56\" font-family=\"Times,serif\" font-size=\"10.00\">n</text>\n",
       "</g>\n",
       "<!-- b_G1 -->\n",
       "<g id=\"node5\" class=\"node\">\n",
       "<title>b_G1</title>\n",
       "<text text-anchor=\"middle\" x=\"217.25\" y=\"-12.95\" font-family=\"Times,serif\" font-size=\"14.00\">b</text>\n",
       "</g>\n",
       "<!-- CuccaroADD&#45;&gt;b_G1 -->\n",
       "<g id=\"edge4\" class=\"edge\">\n",
       "<title>CuccaroADD:e-&gt;b_G1:w</title>\n",
       "<path fill=\"none\" stroke=\"black\" d=\"M153.25,-33.12C170.04,-33.12 172.28,-19.61 187.48,-18.13\"/>\n",
       "<ellipse fill=\"black\" stroke=\"black\" cx=\"188.75\" cy=\"-18.07\" rx=\"1\" ry=\"1\"/>\n",
       "<text text-anchor=\"middle\" x=\"171.75\" y=\"-27.31\" font-family=\"Times,serif\" font-size=\"10.00\">n + 1</text>\n",
       "</g>\n",
       "</g>\n",
       "</svg>"
      ],
      "text/plain": [
       "<IPython.core.display.SVG object>"
      ]
     },
     "metadata": {},
     "output_type": "display_data"
    }
   ],
   "source": [
    "show_bloq(cadder_n)"
   ]
  },
  {
   "cell_type": "markdown",
   "id": "f1a51ffb",
   "metadata": {
    "cq.autogen": "AddK.call_graph.md"
   },
   "source": [
    "### Call Graph"
   ]
  },
  {
   "cell_type": "code",
   "execution_count": 8,
   "id": "76a16025",
   "metadata": {},
   "outputs": [
    {
     "data": {
      "image/svg+xml": [
       "<svg xmlns=\"http://www.w3.org/2000/svg\" xmlns:xlink=\"http://www.w3.org/1999/xlink\" width=\"572pt\" height=\"310pt\" viewBox=\"0.00 0.00 571.81 309.50\">\n",
       "<g id=\"graph0\" class=\"graph\" transform=\"scale(1 1) rotate(0) translate(4 305.5)\">\n",
       "<title>counts</title>\n",
       "<polygon fill=\"white\" stroke=\"none\" points=\"-4,4 -4,-305.5 567.81,-305.5 567.81,4 -4,4\"/>\n",
       "<!-- b0 -->\n",
       "<g id=\"node1\" class=\"node\">\n",
       "<title>b0</title>\n",
       "<polygon fill=\"none\" stroke=\"black\" points=\"456.12,-301.5 365.88,-301.5 365.88,-265.5 456.12,-265.5 456.12,-301.5\"/>\n",
       "<text text-anchor=\"start\" x=\"373.88\" y=\"-283.2\" font-family=\"Times,serif\" font-size=\"14.00\">CuccaroADD</text>\n",
       "<text text-anchor=\"start\" x=\"384\" y=\"-273\" font-family=\"monospace\" font-size=\"10.00\">bitsize=5</text>\n",
       "</g>\n",
       "<!-- b1 -->\n",
       "<g id=\"node2\" class=\"node\">\n",
       "<title>b1</title>\n",
       "<polygon fill=\"none\" stroke=\"black\" points=\"262,-213 0,-213 0,-177 262,-177 262,-213\"/>\n",
       "<text text-anchor=\"start\" x=\"117.12\" y=\"-194.7\" font-family=\"Times,serif\" font-size=\"14.00\">MAJ</text>\n",
       "<text text-anchor=\"start\" x=\"8\" y=\"-184.5\" font-family=\"monospace\" font-size=\"10.00\">&lt;cuccaro_adder.MAJ object at 0x11c9f1950&gt;</text>\n",
       "</g>\n",
       "<!-- b0&#45;&gt;b1 -->\n",
       "<g id=\"edge1\" class=\"edge\">\n",
       "<title>b0-&gt;b1</title>\n",
       "<path fill=\"none\" stroke=\"black\" d=\"M365.39,-268.41C320.04,-254.4 249.94,-232.74 198.21,-216.76\"/>\n",
       "<polygon fill=\"black\" stroke=\"black\" points=\"199.5,-213.5 188.91,-213.89 197.44,-220.19 199.5,-213.5\"/>\n",
       "<text text-anchor=\"middle\" x=\"299.45\" y=\"-234.2\" font-family=\"Times,serif\" font-size=\"14.00\">5</text>\n",
       "</g>\n",
       "<!-- b2 -->\n",
       "<g id=\"node3\" class=\"node\">\n",
       "<title>b2</title>\n",
       "<polygon fill=\"none\" stroke=\"black\" points=\"542,-213 280,-213 280,-177 542,-177 542,-213\"/>\n",
       "<text text-anchor=\"start\" x=\"394.88\" y=\"-194.7\" font-family=\"Times,serif\" font-size=\"14.00\">UMA</text>\n",
       "<text text-anchor=\"start\" x=\"288\" y=\"-184.5\" font-family=\"monospace\" font-size=\"10.00\">&lt;cuccaro_adder.UMA object at 0x11c9f1e50&gt;</text>\n",
       "</g>\n",
       "<!-- b0&#45;&gt;b2 -->\n",
       "<g id=\"edge2\" class=\"edge\">\n",
       "<title>b0-&gt;b2</title>\n",
       "<path fill=\"none\" stroke=\"black\" d=\"M411,-265.41C411,-253.76 411,-238.05 411,-224.52\"/>\n",
       "<polygon fill=\"black\" stroke=\"black\" points=\"414.5,-224.86 411,-214.86 407.5,-224.86 414.5,-224.86\"/>\n",
       "<text text-anchor=\"middle\" x=\"414.38\" y=\"-234.2\" font-family=\"Times,serif\" font-size=\"14.00\">5</text>\n",
       "</g>\n",
       "<!-- b4 -->\n",
       "<g id=\"node5\" class=\"node\">\n",
       "<title>b4</title>\n",
       "<polygon fill=\"none\" stroke=\"black\" points=\"438,-124.5 384,-124.5 384,-88.5 438,-88.5 438,-124.5\"/>\n",
       "<text text-anchor=\"start\" x=\"392.62\" y=\"-101.45\" font-family=\"Times,serif\" font-size=\"14.00\">CNOT</text>\n",
       "</g>\n",
       "<!-- b0&#45;&gt;b4 -->\n",
       "<g id=\"edge3\" class=\"edge\">\n",
       "<title>b0-&gt;b4</title>\n",
       "<path fill=\"none\" stroke=\"black\" d=\"M456.46,-273.2C488.98,-263.93 530.48,-246.09 551,-213 579.7,-166.71 499.85,-133.58 449.2,-117.84\"/>\n",
       "<polygon fill=\"black\" stroke=\"black\" points=\"450.3,-114.51 439.72,-115 448.29,-121.22 450.3,-114.51\"/>\n",
       "<text text-anchor=\"middle\" x=\"560.43\" y=\"-189.95\" font-family=\"Times,serif\" font-size=\"14.00\">1</text>\n",
       "</g>\n",
       "<!-- b3 -->\n",
       "<g id=\"node4\" class=\"node\">\n",
       "<title>b3</title>\n",
       "<polygon fill=\"none\" stroke=\"black\" points=\"305.12,-124.5 250.88,-124.5 250.88,-88.5 305.12,-88.5 305.12,-124.5\"/>\n",
       "<text text-anchor=\"start\" x=\"258.88\" y=\"-101.45\" font-family=\"Times,serif\" font-size=\"14.00\">Toffoli</text>\n",
       "</g>\n",
       "<!-- b1&#45;&gt;b3 -->\n",
       "<g id=\"edge4\" class=\"edge\">\n",
       "<title>b1-&gt;b3</title>\n",
       "<path fill=\"none\" stroke=\"black\" d=\"M160.39,-176.7C183.52,-163.1 215.88,-144.05 240.81,-129.39\"/>\n",
       "<polygon fill=\"black\" stroke=\"black\" points=\"242.49,-132.45 249.34,-124.37 238.94,-126.42 242.49,-132.45\"/>\n",
       "<text text-anchor=\"middle\" x=\"221.04\" y=\"-145.7\" font-family=\"Times,serif\" font-size=\"14.00\">1</text>\n",
       "</g>\n",
       "<!-- b1&#45;&gt;b4 -->\n",
       "<g id=\"edge5\" class=\"edge\">\n",
       "<title>b1-&gt;b4</title>\n",
       "<path fill=\"none\" stroke=\"black\" d=\"M262.21,-176.8C306.2,-170.41 346.56,-163.6 356,-159 368.64,-152.84 380.37,-142.77 389.71,-133.16\"/>\n",
       "<polygon fill=\"black\" stroke=\"black\" points=\"392.05,-135.79 396.25,-126.06 386.9,-131.05 392.05,-135.79\"/>\n",
       "<text text-anchor=\"middle\" x=\"383.01\" y=\"-145.7\" font-family=\"Times,serif\" font-size=\"14.00\">2</text>\n",
       "</g>\n",
       "<!-- b2&#45;&gt;b3 -->\n",
       "<g id=\"edge7\" class=\"edge\">\n",
       "<title>b2-&gt;b3</title>\n",
       "<path fill=\"none\" stroke=\"black\" d=\"M378.87,-176.67C369.22,-171.23 358.69,-165.06 349.25,-159 336.08,-150.54 322.02,-140.59 309.9,-131.71\"/>\n",
       "<polygon fill=\"black\" stroke=\"black\" points=\"311.99,-128.9 301.87,-125.76 307.82,-134.52 311.99,-128.9\"/>\n",
       "<text text-anchor=\"middle\" x=\"352.62\" y=\"-145.7\" font-family=\"Times,serif\" font-size=\"14.00\">1</text>\n",
       "</g>\n",
       "<!-- b2&#45;&gt;b4 -->\n",
       "<g id=\"edge8\" class=\"edge\">\n",
       "<title>b2-&gt;b4</title>\n",
       "<path fill=\"none\" stroke=\"black\" d=\"M411,-176.91C411,-165.26 411,-149.55 411,-136.02\"/>\n",
       "<polygon fill=\"black\" stroke=\"black\" points=\"414.5,-136.36 411,-126.36 407.5,-136.36 414.5,-136.36\"/>\n",
       "<text text-anchor=\"middle\" x=\"414.38\" y=\"-145.7\" font-family=\"Times,serif\" font-size=\"14.00\">2</text>\n",
       "</g>\n",
       "<!-- b5 -->\n",
       "<g id=\"node6\" class=\"node\">\n",
       "<title>b5</title>\n",
       "<polygon fill=\"none\" stroke=\"black\" points=\"334,-36 222,-36 222,0 334,0 334,-36\"/>\n",
       "<text text-anchor=\"start\" x=\"273.88\" y=\"-17.7\" font-family=\"Times,serif\" font-size=\"14.00\">T</text>\n",
       "<text text-anchor=\"start\" x=\"230\" y=\"-7.5\" font-family=\"monospace\" font-size=\"10.00\">is_adjoint=False</text>\n",
       "</g>\n",
       "<!-- b3&#45;&gt;b5 -->\n",
       "<g id=\"edge6\" class=\"edge\">\n",
       "<title>b3-&gt;b5</title>\n",
       "<path fill=\"none\" stroke=\"black\" d=\"M278,-88.41C278,-76.76 278,-61.05 278,-47.52\"/>\n",
       "<polygon fill=\"black\" stroke=\"black\" points=\"281.5,-47.86 278,-37.86 274.5,-47.86 281.5,-47.86\"/>\n",
       "<text text-anchor=\"middle\" x=\"281.38\" y=\"-57.2\" font-family=\"Times,serif\" font-size=\"14.00\">4</text>\n",
       "</g>\n",
       "</g>\n",
       "</svg>"
      ],
      "text/plain": [
       "<IPython.core.display.SVG object>"
      ]
     },
     "metadata": {},
     "output_type": "display_data"
    },
    {
     "data": {
      "text/markdown": [
       "#### Counts totals:\n",
       " - `CNOT()`: 21\n",
       " - `TGate()`: 40"
      ],
      "text/plain": [
       "<IPython.core.display.Markdown object>"
      ]
     },
     "metadata": {},
     "output_type": "display_data"
    }
   ],
   "source": [
    "cadder_g, cadder_sigma = cadder_5.call_graph()\n",
    "show_call_graph(cadder_g)\n",
    "show_counts_sigma(cadder_sigma)"
   ]
  },
  {
   "cell_type": "code",
   "execution_count": 9,
   "id": "cbfc2d39",
   "metadata": {
    "cq.autogen": "AddK.call_graph.py"
   },
   "outputs": [
    {
     "data": {
      "image/svg+xml": [
       "<svg xmlns=\"http://www.w3.org/2000/svg\" xmlns:xlink=\"http://www.w3.org/1999/xlink\" width=\"572pt\" height=\"310pt\" viewBox=\"0.00 0.00 571.81 309.50\">\n",
       "<g id=\"graph0\" class=\"graph\" transform=\"scale(1 1) rotate(0) translate(4 305.5)\">\n",
       "<title>counts</title>\n",
       "<polygon fill=\"white\" stroke=\"none\" points=\"-4,4 -4,-305.5 567.81,-305.5 567.81,4 -4,4\"/>\n",
       "<!-- b0 -->\n",
       "<g id=\"node1\" class=\"node\">\n",
       "<title>b0</title>\n",
       "<polygon fill=\"none\" stroke=\"black\" points=\"456.12,-301.5 365.88,-301.5 365.88,-265.5 456.12,-265.5 456.12,-301.5\"/>\n",
       "<text text-anchor=\"start\" x=\"373.88\" y=\"-283.2\" font-family=\"Times,serif\" font-size=\"14.00\">CuccaroADD</text>\n",
       "<text text-anchor=\"start\" x=\"384\" y=\"-273\" font-family=\"monospace\" font-size=\"10.00\">bitsize=n</text>\n",
       "</g>\n",
       "<!-- b1 -->\n",
       "<g id=\"node2\" class=\"node\">\n",
       "<title>b1</title>\n",
       "<polygon fill=\"none\" stroke=\"black\" points=\"262,-213 0,-213 0,-177 262,-177 262,-213\"/>\n",
       "<text text-anchor=\"start\" x=\"114.88\" y=\"-194.7\" font-family=\"Times,serif\" font-size=\"14.00\">UMA</text>\n",
       "<text text-anchor=\"start\" x=\"8\" y=\"-184.5\" font-family=\"monospace\" font-size=\"10.00\">&lt;cuccaro_adder.UMA object at 0x11c9f2210&gt;</text>\n",
       "</g>\n",
       "<!-- b0&#45;&gt;b1 -->\n",
       "<g id=\"edge1\" class=\"edge\">\n",
       "<title>b0-&gt;b1</title>\n",
       "<path fill=\"none\" stroke=\"black\" d=\"M365.39,-268.41C320.04,-254.4 249.94,-232.74 198.21,-216.76\"/>\n",
       "<polygon fill=\"black\" stroke=\"black\" points=\"199.5,-213.5 188.91,-213.89 197.44,-220.19 199.5,-213.5\"/>\n",
       "<text text-anchor=\"middle\" x=\"299.45\" y=\"-234.2\" font-family=\"Times,serif\" font-size=\"14.00\">n</text>\n",
       "</g>\n",
       "<!-- b2 -->\n",
       "<g id=\"node3\" class=\"node\">\n",
       "<title>b2</title>\n",
       "<polygon fill=\"none\" stroke=\"black\" points=\"542,-213 280,-213 280,-177 542,-177 542,-213\"/>\n",
       "<text text-anchor=\"start\" x=\"397.12\" y=\"-194.7\" font-family=\"Times,serif\" font-size=\"14.00\">MAJ</text>\n",
       "<text text-anchor=\"start\" x=\"288\" y=\"-184.5\" font-family=\"monospace\" font-size=\"10.00\">&lt;cuccaro_adder.MAJ object at 0x11c9f20d0&gt;</text>\n",
       "</g>\n",
       "<!-- b0&#45;&gt;b2 -->\n",
       "<g id=\"edge2\" class=\"edge\">\n",
       "<title>b0-&gt;b2</title>\n",
       "<path fill=\"none\" stroke=\"black\" d=\"M411,-265.41C411,-253.76 411,-238.05 411,-224.52\"/>\n",
       "<polygon fill=\"black\" stroke=\"black\" points=\"414.5,-224.86 411,-214.86 407.5,-224.86 414.5,-224.86\"/>\n",
       "<text text-anchor=\"middle\" x=\"414.38\" y=\"-234.2\" font-family=\"Times,serif\" font-size=\"14.00\">n</text>\n",
       "</g>\n",
       "<!-- b4 -->\n",
       "<g id=\"node5\" class=\"node\">\n",
       "<title>b4</title>\n",
       "<polygon fill=\"none\" stroke=\"black\" points=\"438,-124.5 384,-124.5 384,-88.5 438,-88.5 438,-124.5\"/>\n",
       "<text text-anchor=\"start\" x=\"392.62\" y=\"-101.45\" font-family=\"Times,serif\" font-size=\"14.00\">CNOT</text>\n",
       "</g>\n",
       "<!-- b0&#45;&gt;b4 -->\n",
       "<g id=\"edge3\" class=\"edge\">\n",
       "<title>b0-&gt;b4</title>\n",
       "<path fill=\"none\" stroke=\"black\" d=\"M456.46,-273.2C488.98,-263.93 530.48,-246.09 551,-213 579.7,-166.71 499.85,-133.58 449.2,-117.84\"/>\n",
       "<polygon fill=\"black\" stroke=\"black\" points=\"450.3,-114.51 439.72,-115 448.29,-121.22 450.3,-114.51\"/>\n",
       "<text text-anchor=\"middle\" x=\"560.43\" y=\"-189.95\" font-family=\"Times,serif\" font-size=\"14.00\">1</text>\n",
       "</g>\n",
       "<!-- b3 -->\n",
       "<g id=\"node4\" class=\"node\">\n",
       "<title>b3</title>\n",
       "<polygon fill=\"none\" stroke=\"black\" points=\"305.12,-124.5 250.88,-124.5 250.88,-88.5 305.12,-88.5 305.12,-124.5\"/>\n",
       "<text text-anchor=\"start\" x=\"258.88\" y=\"-101.45\" font-family=\"Times,serif\" font-size=\"14.00\">Toffoli</text>\n",
       "</g>\n",
       "<!-- b1&#45;&gt;b3 -->\n",
       "<g id=\"edge4\" class=\"edge\">\n",
       "<title>b1-&gt;b3</title>\n",
       "<path fill=\"none\" stroke=\"black\" d=\"M160.39,-176.7C183.52,-163.1 215.88,-144.05 240.81,-129.39\"/>\n",
       "<polygon fill=\"black\" stroke=\"black\" points=\"242.49,-132.45 249.34,-124.37 238.94,-126.42 242.49,-132.45\"/>\n",
       "<text text-anchor=\"middle\" x=\"221.04\" y=\"-145.7\" font-family=\"Times,serif\" font-size=\"14.00\">1</text>\n",
       "</g>\n",
       "<!-- b1&#45;&gt;b4 -->\n",
       "<g id=\"edge5\" class=\"edge\">\n",
       "<title>b1-&gt;b4</title>\n",
       "<path fill=\"none\" stroke=\"black\" d=\"M262.21,-176.8C306.2,-170.41 346.56,-163.6 356,-159 368.64,-152.84 380.37,-142.77 389.71,-133.16\"/>\n",
       "<polygon fill=\"black\" stroke=\"black\" points=\"392.05,-135.79 396.25,-126.06 386.9,-131.05 392.05,-135.79\"/>\n",
       "<text text-anchor=\"middle\" x=\"383.01\" y=\"-145.7\" font-family=\"Times,serif\" font-size=\"14.00\">2</text>\n",
       "</g>\n",
       "<!-- b2&#45;&gt;b3 -->\n",
       "<g id=\"edge7\" class=\"edge\">\n",
       "<title>b2-&gt;b3</title>\n",
       "<path fill=\"none\" stroke=\"black\" d=\"M378.87,-176.67C369.22,-171.23 358.69,-165.06 349.25,-159 336.08,-150.54 322.02,-140.59 309.9,-131.71\"/>\n",
       "<polygon fill=\"black\" stroke=\"black\" points=\"311.99,-128.9 301.87,-125.76 307.82,-134.52 311.99,-128.9\"/>\n",
       "<text text-anchor=\"middle\" x=\"352.62\" y=\"-145.7\" font-family=\"Times,serif\" font-size=\"14.00\">1</text>\n",
       "</g>\n",
       "<!-- b2&#45;&gt;b4 -->\n",
       "<g id=\"edge8\" class=\"edge\">\n",
       "<title>b2-&gt;b4</title>\n",
       "<path fill=\"none\" stroke=\"black\" d=\"M411,-176.91C411,-165.26 411,-149.55 411,-136.02\"/>\n",
       "<polygon fill=\"black\" stroke=\"black\" points=\"414.5,-136.36 411,-126.36 407.5,-136.36 414.5,-136.36\"/>\n",
       "<text text-anchor=\"middle\" x=\"414.38\" y=\"-145.7\" font-family=\"Times,serif\" font-size=\"14.00\">2</text>\n",
       "</g>\n",
       "<!-- b5 -->\n",
       "<g id=\"node6\" class=\"node\">\n",
       "<title>b5</title>\n",
       "<polygon fill=\"none\" stroke=\"black\" points=\"334,-36 222,-36 222,0 334,0 334,-36\"/>\n",
       "<text text-anchor=\"start\" x=\"273.88\" y=\"-17.7\" font-family=\"Times,serif\" font-size=\"14.00\">T</text>\n",
       "<text text-anchor=\"start\" x=\"230\" y=\"-7.5\" font-family=\"monospace\" font-size=\"10.00\">is_adjoint=False</text>\n",
       "</g>\n",
       "<!-- b3&#45;&gt;b5 -->\n",
       "<g id=\"edge6\" class=\"edge\">\n",
       "<title>b3-&gt;b5</title>\n",
       "<path fill=\"none\" stroke=\"black\" d=\"M278,-88.41C278,-76.76 278,-61.05 278,-47.52\"/>\n",
       "<polygon fill=\"black\" stroke=\"black\" points=\"281.5,-47.86 278,-37.86 274.5,-47.86 281.5,-47.86\"/>\n",
       "<text text-anchor=\"middle\" x=\"281.38\" y=\"-57.2\" font-family=\"Times,serif\" font-size=\"14.00\">4</text>\n",
       "</g>\n",
       "</g>\n",
       "</svg>"
      ],
      "text/plain": [
       "<IPython.core.display.SVG object>"
      ]
     },
     "metadata": {},
     "output_type": "display_data"
    },
    {
     "data": {
      "text/markdown": [
       "#### Counts totals:\n",
       " - `CNOT()`: $\\displaystyle 4 n + 1$\n",
       " - `TGate()`: $\\displaystyle 8 n$"
      ],
      "text/plain": [
       "<IPython.core.display.Markdown object>"
      ]
     },
     "metadata": {},
     "output_type": "display_data"
    }
   ],
   "source": [
    "cadder_g, cadder_sigma = cadder_n.call_graph()\n",
    "show_call_graph(cadder_g)\n",
    "show_counts_sigma(cadder_sigma)"
   ]
  },
  {
   "cell_type": "markdown",
   "id": "0de36a36",
   "metadata": {},
   "source": [
    "### Bloq Decomposition"
   ]
  },
  {
   "cell_type": "code",
   "execution_count": 10,
   "id": "82c1ca34",
   "metadata": {},
   "outputs": [
    {
     "data": {
      "image/png": "[encoded data removed]",
      "text/plain": [
       "<Figure size 1000x675 with 1 Axes>"
      ]
     },
     "metadata": {},
     "output_type": "display_data"
    }
   ],
   "source": [
    "cbloq = cadder_5.decompose_bloq()\n",
    "show_bloq(cbloq, 'musical_score')"
   ]
  },
  {
   "cell_type": "code",
   "execution_count": 11,
   "id": "10161fc9",
   "metadata": {},
   "outputs": [
    {
     "name": "stdout",
     "output_type": "stream",
     "text": [
      "Input: 1, 5\n",
      "Output: (1, 6)\n",
      "Reference: 6\n",
      "True\n",
      "True\n",
      "Input: 2, 3\n",
      "Output: (2, 5)\n",
      "Reference: 5\n",
      "True\n",
      "True\n",
      "Input: 3, 4\n",
      "Output: (3, 7)\n",
      "Reference: 7\n",
      "True\n",
      "True\n",
      "Input: 4, 5\n",
      "Output: (4, 9)\n",
      "Reference: 9\n",
      "True\n",
      "True\n"
     ]
    }
   ],
   "source": [
    "bloq = CuccaroADD(6)\n",
    "cbloq = bloq.decompose_bloq()\n",
    "for a, b in [(1,5), (2,3), (3,4), (4,5)]:\n",
    "  ref_output = a + b\n",
    "  circuit_output = cbloq.call_classically(a=a, b=b)\n",
    "  print(f\"Input: {a}, {b}\")\n",
    "  print(f\"Output: {circuit_output}\")\n",
    "  print(f\"Reference: {ref_output}\")\n",
    "  print(circuit_output[1] == ref_output)\n",
    "  print(circuit_output[0] == a)\n",
    "  "
   ]
  },
  {
   "cell_type": "code",
   "execution_count": 12,
   "id": "e734a1d9",
   "metadata": {},
   "outputs": [],
   "source": [
    "t = bloq.tensor_contract()"
   ]
  },
  {
   "cell_type": "code",
   "execution_count": null,
   "id": "786619e7",
   "metadata": {},
   "outputs": [],
   "source": []
  }
 ],
 "metadata": {
  "kernelspec": {
   "display_name": "qualtran",
   "language": "python",
   "name": "python3"
  },
  "language_info": {
   "codemirror_mode": {
    "name": "ipython",
    "version": 3
   },
   "file_extension": ".py",
   "mimetype": "text/x-python",
   "name": "python",
   "nbconvert_exporter": "python",
   "pygments_lexer": "ipython3",
   "version": "3.13.2"
  }
 },
 "nbformat": 4,
 "nbformat_minor": 5
}
