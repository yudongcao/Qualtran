{
 "cells": [
  {
   "cell_type": "markdown",
   "id": "c9483021",
   "metadata": {
    "cq.autogen": "title_cell"
   },
   "source": [
    "# Cuccaro adder"
   ]
  },
  {
   "cell_type": "code",
   "execution_count": 1,
   "id": "2dd760e6",
   "metadata": {
    "cq.autogen": "top_imports"
   },
   "outputs": [],
   "source": [
    "from qualtran import Bloq, CompositeBloq, BloqBuilder, Signature, Register\n",
    "from qualtran import QBit, QInt, QUInt, QAny\n",
    "from qualtran.drawing import show_bloq, show_call_graph, show_counts_sigma\n",
    "from typing import *\n",
    "import numpy as np\n",
    "import sympy\n",
    "import cirq\n",
    "from cuccaro_adder import CuccaroADD, MAJ, UMA"
   ]
  },
  {
   "cell_type": "markdown",
   "id": "95d8998c",
   "metadata": {
    "cq.autogen": "Add.bloq_doc.md"
   },
   "source": [
    "## `CuccaroADD`\n",
    "An n-bit addition gate by an inplace ripple carry addition method.\n",
    "\n",
    "Implements $U|a\\rangle|b\\rangle \\rightarrow |a\\rangle|a+b\\rangle$ \n",
    "#### Parameters\n",
    " - `bitsize`: Size of the inputs (`a`= bits and `b` = bits+1)\n",
    "\n",
    "#### Registers\n",
    " - `a`: A QUInt.(bits)-sized input register.\n",
    " - `b`: A QUInt.(bits+1)-sized input register.\n",
    "\n",
    "#### References\n",
    " - [A new quantum ripple-carry addition circuit](https://arxiv.org/abs/quant-ph/0410184). \n"
   ]
  },
  {
   "cell_type": "code",
   "execution_count": 2,
   "id": "50bdb8fb",
   "metadata": {},
   "outputs": [
    {
     "data": {
      "image/png": "[encoded data removed]",
      "text/plain": [
       "<Figure size 480x280 with 1 Axes>"
      ]
     },
     "metadata": {},
     "output_type": "display_data"
    }
   ],
   "source": [
    "show_bloq(MAJ().decompose_bloq(), 'musical_score')"
   ]
  },
  {
   "cell_type": "code",
   "execution_count": 3,
   "id": "ea3981fb",
   "metadata": {},
   "outputs": [
    {
     "data": {
      "image/png": "[encoded data removed]",
      "text/plain": [
       "<Figure size 480x280 with 1 Axes>"
      ]
     },
     "metadata": {},
     "output_type": "display_data"
    }
   ],
   "source": [
    "show_bloq(UMA().decompose_bloq(), 'musical_score')"
   ]
  },
  {
   "cell_type": "code",
   "execution_count": 4,
   "id": "c5045c33",
   "metadata": {},
   "outputs": [],
   "source": [
    "cadder_5 = CuccaroADD(5)\n",
    "cadder_n = CuccaroADD(sympy.Symbol('n'))"
   ]
  },
  {
   "cell_type": "code",
   "execution_count": 5,
   "id": "9b151418",
   "metadata": {},
   "outputs": [
    {
     "data": {
      "image/svg+xml": [
       "<svg xmlns=\"http://www.w3.org/2000/svg\" xmlns:xlink=\"http://www.w3.org/1999/xlink\" width=\"252pt\" height=\"98pt\" viewBox=\"0.00 0.00 252.25 98.00\">\n",
       "<g id=\"graph0\" class=\"graph\" transform=\"scale(1 1) rotate(0) translate(4 94)\">\n",
       "<title>my_graph</title>\n",
       "<polygon fill=\"white\" stroke=\"none\" points=\"-4,4 -4,-94 248.25,-94 248.25,4 -4,4\"/>\n",
       "<!-- a_G2 -->\n",
       "<g id=\"node1\" class=\"node\">\n",
       "<title>a_G2</title>\n",
       "<text text-anchor=\"middle\" x=\"27\" y=\"-66.95\" font-family=\"Times,serif\" font-size=\"14.00\">a</text>\n",
       "</g>\n",
       "<!-- CuccaroADD -->\n",
       "<g id=\"node3\" class=\"node\">\n",
       "<title>CuccaroADD</title>\n",
       "<polygon fill=\"none\" stroke=\"black\" points=\"91,-66.88 91,-84.12 153.25,-84.12 153.25,-66.88 91,-66.88\"/>\n",
       "<text text-anchor=\"start\" x=\"94\" y=\"-71.62\" font-family=\"Times,serif\" font-size=\"10.00\">CuccaroADD</text>\n",
       "<polygon fill=\"none\" stroke=\"black\" points=\"91,-44.38 91,-66.88 153.25,-66.88 153.25,-44.38 91,-44.38\"/>\n",
       "<text text-anchor=\"start\" x=\"119.12\" y=\"-50.58\" font-family=\"Times,serif\" font-size=\"14.00\">a</text>\n",
       "<polygon fill=\"none\" stroke=\"black\" points=\"91,-21.88 91,-44.38 153.25,-44.38 153.25,-21.88 91,-21.88\"/>\n",
       "<text text-anchor=\"start\" x=\"118.75\" y=\"-28.07\" font-family=\"Times,serif\" font-size=\"14.00\">b</text>\n",
       "</g>\n",
       "<!-- a_G2&#45;&gt;CuccaroADD -->\n",
       "<g id=\"edge1\" class=\"edge\">\n",
       "<title>a_G2:e-&gt;CuccaroADD:w</title>\n",
       "<path fill=\"none\" stroke=\"black\" d=\"M54,-72C71,-72 72.85,-57.37 88.2,-55.77\"/>\n",
       "<ellipse fill=\"black\" stroke=\"black\" cx=\"89.5\" cy=\"-55.7\" rx=\"1\" ry=\"1\"/>\n",
       "<text text-anchor=\"middle\" x=\"72.5\" y=\"-65.56\" font-family=\"Times,serif\" font-size=\"10.00\">5</text>\n",
       "</g>\n",
       "<!-- b_G5 -->\n",
       "<g id=\"node2\" class=\"node\">\n",
       "<title>b_G5</title>\n",
       "<text text-anchor=\"middle\" x=\"27\" y=\"-12.95\" font-family=\"Times,serif\" font-size=\"14.00\">b</text>\n",
       "</g>\n",
       "<!-- b_G5&#45;&gt;CuccaroADD -->\n",
       "<g id=\"edge2\" class=\"edge\">\n",
       "<title>b_G5:e-&gt;CuccaroADD:w</title>\n",
       "<path fill=\"none\" stroke=\"black\" d=\"M54,-18C70.79,-18 73.03,-31.52 88.23,-32.99\"/>\n",
       "<ellipse fill=\"black\" stroke=\"black\" cx=\"89.5\" cy=\"-33.05\" rx=\"1\" ry=\"1\"/>\n",
       "<text text-anchor=\"middle\" x=\"72.5\" y=\"-27.31\" font-family=\"Times,serif\" font-size=\"10.00\">6</text>\n",
       "</g>\n",
       "<!-- a_G3 -->\n",
       "<g id=\"node4\" class=\"node\">\n",
       "<title>a_G3</title>\n",
       "<text text-anchor=\"middle\" x=\"217.25\" y=\"-66.95\" font-family=\"Times,serif\" font-size=\"14.00\">a</text>\n",
       "</g>\n",
       "<!-- CuccaroADD&#45;&gt;a_G3 -->\n",
       "<g id=\"edge3\" class=\"edge\">\n",
       "<title>CuccaroADD:e-&gt;a_G3:w</title>\n",
       "<path fill=\"none\" stroke=\"black\" d=\"M153.25,-55.62C170.25,-55.62 172.1,-70.26 187.45,-71.86\"/>\n",
       "<ellipse fill=\"black\" stroke=\"black\" cx=\"188.75\" cy=\"-71.92\" rx=\"1\" ry=\"1\"/>\n",
       "<text text-anchor=\"middle\" x=\"171.75\" y=\"-65.56\" font-family=\"Times,serif\" font-size=\"10.00\">5</text>\n",
       "</g>\n",
       "<!-- b_G4 -->\n",
       "<g id=\"node5\" class=\"node\">\n",
       "<title>b_G4</title>\n",
       "<text text-anchor=\"middle\" x=\"217.25\" y=\"-12.95\" font-family=\"Times,serif\" font-size=\"14.00\">b</text>\n",
       "</g>\n",
       "<!-- CuccaroADD&#45;&gt;b_G4 -->\n",
       "<g id=\"edge4\" class=\"edge\">\n",
       "<title>CuccaroADD:e-&gt;b_G4:w</title>\n",
       "<path fill=\"none\" stroke=\"black\" d=\"M153.25,-33.12C170.04,-33.12 172.28,-19.61 187.48,-18.13\"/>\n",
       "<ellipse fill=\"black\" stroke=\"black\" cx=\"188.75\" cy=\"-18.07\" rx=\"1\" ry=\"1\"/>\n",
       "<text text-anchor=\"middle\" x=\"171.75\" y=\"-27.31\" font-family=\"Times,serif\" font-size=\"10.00\">6</text>\n",
       "</g>\n",
       "</g>\n",
       "</svg>"
      ],
      "text/plain": [
       "<IPython.core.display.SVG object>"
      ]
     },
     "metadata": {},
     "output_type": "display_data"
    }
   ],
   "source": [
    "show_bloq(cadder_5)"
   ]
  },
  {
   "cell_type": "code",
   "execution_count": 6,
   "id": "1686cd40",
   "metadata": {},
   "outputs": [
    {
     "data": {
      "image/svg+xml": [
       "<svg xmlns=\"http://www.w3.org/2000/svg\" xmlns:xlink=\"http://www.w3.org/1999/xlink\" width=\"252pt\" height=\"98pt\" viewBox=\"0.00 0.00 252.25 98.00\">\n",
       "<g id=\"graph0\" class=\"graph\" transform=\"scale(1 1) rotate(0) translate(4 94)\">\n",
       "<title>my_graph</title>\n",
       "<polygon fill=\"white\" stroke=\"none\" points=\"-4,4 -4,-94 248.25,-94 248.25,4 -4,4\"/>\n",
       "<!-- a_G2 -->\n",
       "<g id=\"node1\" class=\"node\">\n",
       "<title>a_G2</title>\n",
       "<text text-anchor=\"middle\" x=\"27\" y=\"-66.95\" font-family=\"Times,serif\" font-size=\"14.00\">a</text>\n",
       "</g>\n",
       "<!-- CuccaroADD -->\n",
       "<g id=\"node3\" class=\"node\">\n",
       "<title>CuccaroADD</title>\n",
       "<polygon fill=\"none\" stroke=\"black\" points=\"91,-66.88 91,-84.12 153.25,-84.12 153.25,-66.88 91,-66.88\"/>\n",
       "<text text-anchor=\"start\" x=\"94\" y=\"-71.62\" font-family=\"Times,serif\" font-size=\"10.00\">CuccaroADD</text>\n",
       "<polygon fill=\"none\" stroke=\"black\" points=\"91,-44.38 91,-66.88 153.25,-66.88 153.25,-44.38 91,-44.38\"/>\n",
       "<text text-anchor=\"start\" x=\"119.12\" y=\"-50.58\" font-family=\"Times,serif\" font-size=\"14.00\">a</text>\n",
       "<polygon fill=\"none\" stroke=\"black\" points=\"91,-21.88 91,-44.38 153.25,-44.38 153.25,-21.88 91,-21.88\"/>\n",
       "<text text-anchor=\"start\" x=\"118.75\" y=\"-28.07\" font-family=\"Times,serif\" font-size=\"14.00\">b</text>\n",
       "</g>\n",
       "<!-- a_G2&#45;&gt;CuccaroADD -->\n",
       "<g id=\"edge1\" class=\"edge\">\n",
       "<title>a_G2:e-&gt;CuccaroADD:w</title>\n",
       "<path fill=\"none\" stroke=\"black\" d=\"M54,-72C71,-72 72.85,-57.37 88.2,-55.77\"/>\n",
       "<ellipse fill=\"black\" stroke=\"black\" cx=\"89.5\" cy=\"-55.7\" rx=\"1\" ry=\"1\"/>\n",
       "<text text-anchor=\"middle\" x=\"72.5\" y=\"-65.56\" font-family=\"Times,serif\" font-size=\"10.00\">n</text>\n",
       "</g>\n",
       "<!-- b_G5 -->\n",
       "<g id=\"node2\" class=\"node\">\n",
       "<title>b_G5</title>\n",
       "<text text-anchor=\"middle\" x=\"27\" y=\"-12.95\" font-family=\"Times,serif\" font-size=\"14.00\">b</text>\n",
       "</g>\n",
       "<!-- b_G5&#45;&gt;CuccaroADD -->\n",
       "<g id=\"edge2\" class=\"edge\">\n",
       "<title>b_G5:e-&gt;CuccaroADD:w</title>\n",
       "<path fill=\"none\" stroke=\"black\" d=\"M54,-18C70.79,-18 73.03,-31.52 88.23,-32.99\"/>\n",
       "<ellipse fill=\"black\" stroke=\"black\" cx=\"89.5\" cy=\"-33.05\" rx=\"1\" ry=\"1\"/>\n",
       "<text text-anchor=\"middle\" x=\"72.5\" y=\"-27.31\" font-family=\"Times,serif\" font-size=\"10.00\">n + 1</text>\n",
       "</g>\n",
       "<!-- a_G3 -->\n",
       "<g id=\"node4\" class=\"node\">\n",
       "<title>a_G3</title>\n",
       "<text text-anchor=\"middle\" x=\"217.25\" y=\"-66.95\" font-family=\"Times,serif\" font-size=\"14.00\">a</text>\n",
       "</g>\n",
       "<!-- CuccaroADD&#45;&gt;a_G3 -->\n",
       "<g id=\"edge3\" class=\"edge\">\n",
       "<title>CuccaroADD:e-&gt;a_G3:w</title>\n",
       "<path fill=\"none\" stroke=\"black\" d=\"M153.25,-55.62C170.25,-55.62 172.1,-70.26 187.45,-71.86\"/>\n",
       "<ellipse fill=\"black\" stroke=\"black\" cx=\"188.75\" cy=\"-71.92\" rx=\"1\" ry=\"1\"/>\n",
       "<text text-anchor=\"middle\" x=\"171.75\" y=\"-65.56\" font-family=\"Times,serif\" font-size=\"10.00\">n</text>\n",
       "</g>\n",
       "<!-- b_G0 -->\n",
       "<g id=\"node5\" class=\"node\">\n",
       "<title>b_G0</title>\n",
       "<text text-anchor=\"middle\" x=\"217.25\" y=\"-12.95\" font-family=\"Times,serif\" font-size=\"14.00\">b</text>\n",
       "</g>\n",
       "<!-- CuccaroADD&#45;&gt;b_G0 -->\n",
       "<g id=\"edge4\" class=\"edge\">\n",
       "<title>CuccaroADD:e-&gt;b_G0:w</title>\n",
       "<path fill=\"none\" stroke=\"black\" d=\"M153.25,-33.12C170.04,-33.12 172.28,-19.61 187.48,-18.13\"/>\n",
       "<ellipse fill=\"black\" stroke=\"black\" cx=\"188.75\" cy=\"-18.07\" rx=\"1\" ry=\"1\"/>\n",
       "<text text-anchor=\"middle\" x=\"171.75\" y=\"-27.31\" font-family=\"Times,serif\" font-size=\"10.00\">n + 1</text>\n",
       "</g>\n",
       "</g>\n",
       "</svg>"
      ],
      "text/plain": [
       "<IPython.core.display.SVG object>"
      ]
     },
     "metadata": {},
     "output_type": "display_data"
    }
   ],
   "source": [
    "show_bloq(cadder_n)"
   ]
  },
  {
   "cell_type": "markdown",
   "id": "f1a51ffb",
   "metadata": {
    "cq.autogen": "AddK.call_graph.md"
   },
   "source": [
    "### Call Graph"
   ]
  },
  {
   "cell_type": "code",
   "execution_count": 7,
   "id": "76a16025",
   "metadata": {},
   "outputs": [
    {
     "data": {
      "image/svg+xml": [
       "<svg xmlns=\"http://www.w3.org/2000/svg\" xmlns:xlink=\"http://www.w3.org/1999/xlink\" width=\"572pt\" height=\"310pt\" viewBox=\"0.00 0.00 572.43 309.50\">\n",
       "<g id=\"graph0\" class=\"graph\" transform=\"scale(1 1) rotate(0) translate(4 305.5)\">\n",
       "<title>counts</title>\n",
       "<polygon fill=\"white\" stroke=\"none\" points=\"-4,4 -4,-305.5 568.43,-305.5 568.43,4 -4,4\"/>\n",
       "<!-- b0 -->\n",
       "<g id=\"node1\" class=\"node\">\n",
       "<title>b0</title>\n",
       "<polygon fill=\"none\" stroke=\"black\" points=\"198.56,-301.5 108.31,-301.5 108.31,-265.5 198.56,-265.5 198.56,-301.5\"/>\n",
       "<text text-anchor=\"start\" x=\"116.31\" y=\"-283.2\" font-family=\"Times,serif\" font-size=\"14.00\">CuccaroADD</text>\n",
       "<text text-anchor=\"start\" x=\"126.43\" y=\"-273\" font-family=\"monospace\" font-size=\"10.00\">bitsize=5</text>\n",
       "</g>\n",
       "<!-- b1 -->\n",
       "<g id=\"node2\" class=\"node\">\n",
       "<title>b1</title>\n",
       "<polygon fill=\"none\" stroke=\"black\" points=\"564.43,-213 302.43,-213 302.43,-177 564.43,-177 564.43,-213\"/>\n",
       "<text text-anchor=\"start\" x=\"419.56\" y=\"-194.7\" font-family=\"Times,serif\" font-size=\"14.00\">MAJ</text>\n",
       "<text text-anchor=\"start\" x=\"310.43\" y=\"-184.5\" font-family=\"monospace\" font-size=\"10.00\">&lt;cuccaro_adder.MAJ object at 0x11a26dd10&gt;</text>\n",
       "</g>\n",
       "<!-- b0&#45;&gt;b1 -->\n",
       "<g id=\"edge1\" class=\"edge\">\n",
       "<title>b0-&gt;b1</title>\n",
       "<path fill=\"none\" stroke=\"black\" d=\"M199.04,-268.41C244.4,-254.4 314.49,-232.74 366.22,-216.76\"/>\n",
       "<polygon fill=\"black\" stroke=\"black\" points=\"367,-220.19 375.52,-213.89 364.93,-213.5 367,-220.19\"/>\n",
       "<text text-anchor=\"middle\" x=\"321.89\" y=\"-234.2\" font-family=\"Times,serif\" font-size=\"14.00\">5</text>\n",
       "</g>\n",
       "<!-- b2 -->\n",
       "<g id=\"node3\" class=\"node\">\n",
       "<title>b2</title>\n",
       "<polygon fill=\"none\" stroke=\"black\" points=\"284.43,-213 22.43,-213 22.43,-177 284.43,-177 284.43,-213\"/>\n",
       "<text text-anchor=\"start\" x=\"137.31\" y=\"-194.7\" font-family=\"Times,serif\" font-size=\"14.00\">UMA</text>\n",
       "<text text-anchor=\"start\" x=\"30.43\" y=\"-184.5\" font-family=\"monospace\" font-size=\"10.00\">&lt;cuccaro_adder.UMA object at 0x11a26f610&gt;</text>\n",
       "</g>\n",
       "<!-- b0&#45;&gt;b2 -->\n",
       "<g id=\"edge2\" class=\"edge\">\n",
       "<title>b0-&gt;b2</title>\n",
       "<path fill=\"none\" stroke=\"black\" d=\"M153.43,-265.41C153.43,-253.76 153.43,-238.05 153.43,-224.52\"/>\n",
       "<polygon fill=\"black\" stroke=\"black\" points=\"156.93,-224.86 153.43,-214.86 149.93,-224.86 156.93,-224.86\"/>\n",
       "<text text-anchor=\"middle\" x=\"156.81\" y=\"-234.2\" font-family=\"Times,serif\" font-size=\"14.00\">5</text>\n",
       "</g>\n",
       "<!-- b3 -->\n",
       "<g id=\"node4\" class=\"node\">\n",
       "<title>b3</title>\n",
       "<polygon fill=\"none\" stroke=\"black\" points=\"180.43,-124.5 126.43,-124.5 126.43,-88.5 180.43,-88.5 180.43,-124.5\"/>\n",
       "<text text-anchor=\"start\" x=\"135.06\" y=\"-101.45\" font-family=\"Times,serif\" font-size=\"14.00\">CNOT</text>\n",
       "</g>\n",
       "<!-- b0&#45;&gt;b3 -->\n",
       "<g id=\"edge3\" class=\"edge\">\n",
       "<title>b0-&gt;b3</title>\n",
       "<path fill=\"none\" stroke=\"black\" d=\"M107.98,-274.39C73.64,-265.61 28.77,-247.9 6.68,-213 -23.64,-165.08 62,-132.24 114.98,-117.07\"/>\n",
       "<polygon fill=\"black\" stroke=\"black\" points=\"115.88,-120.45 124.59,-114.42 114.02,-113.7 115.88,-120.45\"/>\n",
       "<text text-anchor=\"middle\" x=\"10.06\" y=\"-189.95\" font-family=\"Times,serif\" font-size=\"14.00\">1</text>\n",
       "</g>\n",
       "<!-- b1&#45;&gt;b3 -->\n",
       "<g id=\"edge4\" class=\"edge\">\n",
       "<title>b1-&gt;b3</title>\n",
       "<path fill=\"none\" stroke=\"black\" d=\"M377.11,-176.6C321.96,-159.56 239.46,-134.08 191.58,-119.29\"/>\n",
       "<polygon fill=\"black\" stroke=\"black\" points=\"192.8,-116 182.22,-116.39 190.74,-122.69 192.8,-116\"/>\n",
       "<text text-anchor=\"middle\" x=\"321.89\" y=\"-145.7\" font-family=\"Times,serif\" font-size=\"14.00\">2</text>\n",
       "</g>\n",
       "<!-- b4 -->\n",
       "<g id=\"node5\" class=\"node\">\n",
       "<title>b4</title>\n",
       "<polygon fill=\"none\" stroke=\"black\" points=\"334.56,-124.5 280.31,-124.5 280.31,-88.5 334.56,-88.5 334.56,-124.5\"/>\n",
       "<text text-anchor=\"start\" x=\"288.31\" y=\"-101.45\" font-family=\"Times,serif\" font-size=\"14.00\">Toffoli</text>\n",
       "</g>\n",
       "<!-- b1&#45;&gt;b4 -->\n",
       "<g id=\"edge5\" class=\"edge\">\n",
       "<title>b1-&gt;b4</title>\n",
       "<path fill=\"none\" stroke=\"black\" d=\"M408.24,-176.7C389.18,-163.62 362.8,-145.51 341.81,-131.1\"/>\n",
       "<polygon fill=\"black\" stroke=\"black\" points=\"344.06,-128.4 333.83,-125.62 340.1,-134.17 344.06,-128.4\"/>\n",
       "<text text-anchor=\"middle\" x=\"385.1\" y=\"-145.7\" font-family=\"Times,serif\" font-size=\"14.00\">1</text>\n",
       "</g>\n",
       "<!-- b2&#45;&gt;b3 -->\n",
       "<g id=\"edge7\" class=\"edge\">\n",
       "<title>b2-&gt;b3</title>\n",
       "<path fill=\"none\" stroke=\"black\" d=\"M153.43,-176.91C153.43,-165.26 153.43,-149.55 153.43,-136.02\"/>\n",
       "<polygon fill=\"black\" stroke=\"black\" points=\"156.93,-136.36 153.43,-126.36 149.93,-136.36 156.93,-136.36\"/>\n",
       "<text text-anchor=\"middle\" x=\"156.81\" y=\"-145.7\" font-family=\"Times,serif\" font-size=\"14.00\">2</text>\n",
       "</g>\n",
       "<!-- b2&#45;&gt;b4 -->\n",
       "<g id=\"edge8\" class=\"edge\">\n",
       "<title>b2-&gt;b4</title>\n",
       "<path fill=\"none\" stroke=\"black\" d=\"M184.23,-176.7C208.95,-162.82 243.75,-143.27 270.06,-128.49\"/>\n",
       "<polygon fill=\"black\" stroke=\"black\" points=\"271.72,-131.57 278.73,-123.62 268.3,-125.47 271.72,-131.57\"/>\n",
       "<text text-anchor=\"middle\" x=\"247.6\" y=\"-145.7\" font-family=\"Times,serif\" font-size=\"14.00\">1</text>\n",
       "</g>\n",
       "<!-- b5 -->\n",
       "<g id=\"node6\" class=\"node\">\n",
       "<title>b5</title>\n",
       "<polygon fill=\"none\" stroke=\"black\" points=\"363.43,-36 251.43,-36 251.43,0 363.43,0 363.43,-36\"/>\n",
       "<text text-anchor=\"start\" x=\"303.31\" y=\"-17.7\" font-family=\"Times,serif\" font-size=\"14.00\">T</text>\n",
       "<text text-anchor=\"start\" x=\"259.43\" y=\"-7.5\" font-family=\"monospace\" font-size=\"10.00\">is_adjoint=False</text>\n",
       "</g>\n",
       "<!-- b4&#45;&gt;b5 -->\n",
       "<g id=\"edge6\" class=\"edge\">\n",
       "<title>b4-&gt;b5</title>\n",
       "<path fill=\"none\" stroke=\"black\" d=\"M307.43,-88.41C307.43,-76.76 307.43,-61.05 307.43,-47.52\"/>\n",
       "<polygon fill=\"black\" stroke=\"black\" points=\"310.93,-47.86 307.43,-37.86 303.93,-47.86 310.93,-47.86\"/>\n",
       "<text text-anchor=\"middle\" x=\"310.81\" y=\"-57.2\" font-family=\"Times,serif\" font-size=\"14.00\">4</text>\n",
       "</g>\n",
       "</g>\n",
       "</svg>"
      ],
      "text/plain": [
       "<IPython.core.display.SVG object>"
      ]
     },
     "metadata": {},
     "output_type": "display_data"
    },
    {
     "data": {
      "text/markdown": [
       "#### Counts totals:\n",
       " - `CNOT()`: 21\n",
       " - `TGate()`: 40"
      ],
      "text/plain": [
       "<IPython.core.display.Markdown object>"
      ]
     },
     "metadata": {},
     "output_type": "display_data"
    }
   ],
   "source": [
    "cadder_g, cadder_sigma = cadder_5.call_graph()\n",
    "show_call_graph(cadder_g)\n",
    "show_counts_sigma(cadder_sigma)"
   ]
  },
  {
   "cell_type": "code",
   "execution_count": 8,
   "id": "cbfc2d39",
   "metadata": {
    "cq.autogen": "AddK.call_graph.py"
   },
   "outputs": [
    {
     "data": {
      "image/svg+xml": [
       "<svg xmlns=\"http://www.w3.org/2000/svg\" xmlns:xlink=\"http://www.w3.org/1999/xlink\" width=\"572pt\" height=\"310pt\" viewBox=\"0.00 0.00 572.43 309.50\">\n",
       "<g id=\"graph0\" class=\"graph\" transform=\"scale(1 1) rotate(0) translate(4 305.5)\">\n",
       "<title>counts</title>\n",
       "<polygon fill=\"white\" stroke=\"none\" points=\"-4,4 -4,-305.5 568.43,-305.5 568.43,4 -4,4\"/>\n",
       "<!-- b0 -->\n",
       "<g id=\"node1\" class=\"node\">\n",
       "<title>b0</title>\n",
       "<polygon fill=\"none\" stroke=\"black\" points=\"198.56,-301.5 108.31,-301.5 108.31,-265.5 198.56,-265.5 198.56,-301.5\"/>\n",
       "<text text-anchor=\"start\" x=\"116.31\" y=\"-283.2\" font-family=\"Times,serif\" font-size=\"14.00\">CuccaroADD</text>\n",
       "<text text-anchor=\"start\" x=\"126.43\" y=\"-273\" font-family=\"monospace\" font-size=\"10.00\">bitsize=n</text>\n",
       "</g>\n",
       "<!-- b1 -->\n",
       "<g id=\"node2\" class=\"node\">\n",
       "<title>b1</title>\n",
       "<polygon fill=\"none\" stroke=\"black\" points=\"564.43,-213 302.43,-213 302.43,-177 564.43,-177 564.43,-213\"/>\n",
       "<text text-anchor=\"start\" x=\"417.31\" y=\"-194.7\" font-family=\"Times,serif\" font-size=\"14.00\">UMA</text>\n",
       "<text text-anchor=\"start\" x=\"310.43\" y=\"-184.5\" font-family=\"monospace\" font-size=\"10.00\">&lt;cuccaro_adder.UMA object at 0x11a26f750&gt;</text>\n",
       "</g>\n",
       "<!-- b0&#45;&gt;b1 -->\n",
       "<g id=\"edge1\" class=\"edge\">\n",
       "<title>b0-&gt;b1</title>\n",
       "<path fill=\"none\" stroke=\"black\" d=\"M199.04,-268.41C244.4,-254.4 314.49,-232.74 366.22,-216.76\"/>\n",
       "<polygon fill=\"black\" stroke=\"black\" points=\"367,-220.19 375.52,-213.89 364.93,-213.5 367,-220.19\"/>\n",
       "<text text-anchor=\"middle\" x=\"321.89\" y=\"-234.2\" font-family=\"Times,serif\" font-size=\"14.00\">n</text>\n",
       "</g>\n",
       "<!-- b2 -->\n",
       "<g id=\"node3\" class=\"node\">\n",
       "<title>b2</title>\n",
       "<polygon fill=\"none\" stroke=\"black\" points=\"284.43,-213 22.43,-213 22.43,-177 284.43,-177 284.43,-213\"/>\n",
       "<text text-anchor=\"start\" x=\"139.56\" y=\"-194.7\" font-family=\"Times,serif\" font-size=\"14.00\">MAJ</text>\n",
       "<text text-anchor=\"start\" x=\"30.43\" y=\"-184.5\" font-family=\"monospace\" font-size=\"10.00\">&lt;cuccaro_adder.MAJ object at 0x11a26f250&gt;</text>\n",
       "</g>\n",
       "<!-- b0&#45;&gt;b2 -->\n",
       "<g id=\"edge3\" class=\"edge\">\n",
       "<title>b0-&gt;b2</title>\n",
       "<path fill=\"none\" stroke=\"black\" d=\"M153.43,-265.41C153.43,-253.76 153.43,-238.05 153.43,-224.52\"/>\n",
       "<polygon fill=\"black\" stroke=\"black\" points=\"156.93,-224.86 153.43,-214.86 149.93,-224.86 156.93,-224.86\"/>\n",
       "<text text-anchor=\"middle\" x=\"156.81\" y=\"-234.2\" font-family=\"Times,serif\" font-size=\"14.00\">n</text>\n",
       "</g>\n",
       "<!-- b3 -->\n",
       "<g id=\"node4\" class=\"node\">\n",
       "<title>b3</title>\n",
       "<polygon fill=\"none\" stroke=\"black\" points=\"180.43,-124.5 126.43,-124.5 126.43,-88.5 180.43,-88.5 180.43,-124.5\"/>\n",
       "<text text-anchor=\"start\" x=\"135.06\" y=\"-101.45\" font-family=\"Times,serif\" font-size=\"14.00\">CNOT</text>\n",
       "</g>\n",
       "<!-- b0&#45;&gt;b3 -->\n",
       "<g id=\"edge2\" class=\"edge\">\n",
       "<title>b0-&gt;b3</title>\n",
       "<path fill=\"none\" stroke=\"black\" d=\"M107.98,-274.39C73.64,-265.61 28.77,-247.9 6.68,-213 -23.64,-165.08 62,-132.24 114.98,-117.07\"/>\n",
       "<polygon fill=\"black\" stroke=\"black\" points=\"115.88,-120.45 124.59,-114.42 114.02,-113.7 115.88,-120.45\"/>\n",
       "<text text-anchor=\"middle\" x=\"10.06\" y=\"-189.95\" font-family=\"Times,serif\" font-size=\"14.00\">1</text>\n",
       "</g>\n",
       "<!-- b1&#45;&gt;b3 -->\n",
       "<g id=\"edge4\" class=\"edge\">\n",
       "<title>b1-&gt;b3</title>\n",
       "<path fill=\"none\" stroke=\"black\" d=\"M377.11,-176.6C321.96,-159.56 239.46,-134.08 191.58,-119.29\"/>\n",
       "<polygon fill=\"black\" stroke=\"black\" points=\"192.8,-116 182.22,-116.39 190.74,-122.69 192.8,-116\"/>\n",
       "<text text-anchor=\"middle\" x=\"321.89\" y=\"-145.7\" font-family=\"Times,serif\" font-size=\"14.00\">2</text>\n",
       "</g>\n",
       "<!-- b4 -->\n",
       "<g id=\"node5\" class=\"node\">\n",
       "<title>b4</title>\n",
       "<polygon fill=\"none\" stroke=\"black\" points=\"334.56,-124.5 280.31,-124.5 280.31,-88.5 334.56,-88.5 334.56,-124.5\"/>\n",
       "<text text-anchor=\"start\" x=\"288.31\" y=\"-101.45\" font-family=\"Times,serif\" font-size=\"14.00\">Toffoli</text>\n",
       "</g>\n",
       "<!-- b1&#45;&gt;b4 -->\n",
       "<g id=\"edge5\" class=\"edge\">\n",
       "<title>b1-&gt;b4</title>\n",
       "<path fill=\"none\" stroke=\"black\" d=\"M408.24,-176.7C389.18,-163.62 362.8,-145.51 341.81,-131.1\"/>\n",
       "<polygon fill=\"black\" stroke=\"black\" points=\"344.06,-128.4 333.83,-125.62 340.1,-134.17 344.06,-128.4\"/>\n",
       "<text text-anchor=\"middle\" x=\"385.1\" y=\"-145.7\" font-family=\"Times,serif\" font-size=\"14.00\">1</text>\n",
       "</g>\n",
       "<!-- b2&#45;&gt;b3 -->\n",
       "<g id=\"edge7\" class=\"edge\">\n",
       "<title>b2-&gt;b3</title>\n",
       "<path fill=\"none\" stroke=\"black\" d=\"M153.43,-176.91C153.43,-165.26 153.43,-149.55 153.43,-136.02\"/>\n",
       "<polygon fill=\"black\" stroke=\"black\" points=\"156.93,-136.36 153.43,-126.36 149.93,-136.36 156.93,-136.36\"/>\n",
       "<text text-anchor=\"middle\" x=\"156.81\" y=\"-145.7\" font-family=\"Times,serif\" font-size=\"14.00\">2</text>\n",
       "</g>\n",
       "<!-- b2&#45;&gt;b4 -->\n",
       "<g id=\"edge8\" class=\"edge\">\n",
       "<title>b2-&gt;b4</title>\n",
       "<path fill=\"none\" stroke=\"black\" d=\"M184.23,-176.7C208.95,-162.82 243.75,-143.27 270.06,-128.49\"/>\n",
       "<polygon fill=\"black\" stroke=\"black\" points=\"271.72,-131.57 278.73,-123.62 268.3,-125.47 271.72,-131.57\"/>\n",
       "<text text-anchor=\"middle\" x=\"247.6\" y=\"-145.7\" font-family=\"Times,serif\" font-size=\"14.00\">1</text>\n",
       "</g>\n",
       "<!-- b5 -->\n",
       "<g id=\"node6\" class=\"node\">\n",
       "<title>b5</title>\n",
       "<polygon fill=\"none\" stroke=\"black\" points=\"363.43,-36 251.43,-36 251.43,0 363.43,0 363.43,-36\"/>\n",
       "<text text-anchor=\"start\" x=\"303.31\" y=\"-17.7\" font-family=\"Times,serif\" font-size=\"14.00\">T</text>\n",
       "<text text-anchor=\"start\" x=\"259.43\" y=\"-7.5\" font-family=\"monospace\" font-size=\"10.00\">is_adjoint=False</text>\n",
       "</g>\n",
       "<!-- b4&#45;&gt;b5 -->\n",
       "<g id=\"edge6\" class=\"edge\">\n",
       "<title>b4-&gt;b5</title>\n",
       "<path fill=\"none\" stroke=\"black\" d=\"M307.43,-88.41C307.43,-76.76 307.43,-61.05 307.43,-47.52\"/>\n",
       "<polygon fill=\"black\" stroke=\"black\" points=\"310.93,-47.86 307.43,-37.86 303.93,-47.86 310.93,-47.86\"/>\n",
       "<text text-anchor=\"middle\" x=\"310.81\" y=\"-57.2\" font-family=\"Times,serif\" font-size=\"14.00\">4</text>\n",
       "</g>\n",
       "</g>\n",
       "</svg>"
      ],
      "text/plain": [
       "<IPython.core.display.SVG object>"
      ]
     },
     "metadata": {},
     "output_type": "display_data"
    },
    {
     "data": {
      "text/markdown": [
       "#### Counts totals:\n",
       " - `CNOT()`: $\\displaystyle 4 n + 1$\n",
       " - `TGate()`: $\\displaystyle 8 n$"
      ],
      "text/plain": [
       "<IPython.core.display.Markdown object>"
      ]
     },
     "metadata": {},
     "output_type": "display_data"
    }
   ],
   "source": [
    "cadder_g, cadder_sigma = cadder_n.call_graph()\n",
    "show_call_graph(cadder_g)\n",
    "show_counts_sigma(cadder_sigma)"
   ]
  },
  {
   "cell_type": "markdown",
   "id": "0de36a36",
   "metadata": {},
   "source": [
    "### Bloq Decomposition"
   ]
  },
  {
   "cell_type": "code",
   "execution_count": 9,
   "id": "82c1ca34",
   "metadata": {},
   "outputs": [
    {
     "data": {
      "image/png": "[encoded data removed]",
      "text/plain": [
       "<Figure size 1000x675 with 1 Axes>"
      ]
     },
     "metadata": {},
     "output_type": "display_data"
    }
   ],
   "source": [
    "cbloq = cadder_5.decompose_bloq()\n",
    "show_bloq(cbloq, 'musical_score')"
   ]
  },
  {
   "cell_type": "code",
   "execution_count": null,
   "id": "10161fc9",
   "metadata": {},
   "outputs": [],
   "source": []
  }
 ],
 "metadata": {
  "kernelspec": {
   "display_name": "qualtran",
   "language": "python",
   "name": "python3"
  },
  "language_info": {
   "codemirror_mode": {
    "name": "ipython",
    "version": 3
   },
   "file_extension": ".py",
   "mimetype": "text/x-python",
   "name": "python",
   "nbconvert_exporter": "python",
   "pygments_lexer": "ipython3",
   "version": "3.13.2"
  }
 },
 "nbformat": 4,
 "nbformat_minor": 5
}
