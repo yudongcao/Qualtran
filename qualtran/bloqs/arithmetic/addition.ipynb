{
 "cells": [
  {
   "cell_type": "markdown",
   "id": "c9483021",
   "metadata": {
    "cq.autogen": "title_cell"
   },
   "source": [
    "# Addition"
   ]
  },
  {
   "cell_type": "code",
   "execution_count": 2,
   "id": "2dd760e6",
   "metadata": {
    "cq.autogen": "top_imports"
   },
   "outputs": [],
   "source": [
    "from qualtran import Bloq, CompositeBloq, BloqBuilder, Signature, Register\n",
    "from qualtran import QBit, QInt, QUInt, QAny\n",
    "from qualtran.drawing import show_bloq, show_call_graph, show_counts_sigma\n",
    "from typing import *\n",
    "import numpy as np\n",
    "import sympy\n",
    "import cirq"
   ]
  },
  {
   "cell_type": "markdown",
   "id": "95d8998c",
   "metadata": {
    "cq.autogen": "Add.bloq_doc.md"
   },
   "source": [
    "## `Add`\n",
    "An n-bit addition gate.\n",
    "\n",
    "Implements $U|a\\rangle|b\\rangle \\rightarrow |a\\rangle|a+b\\rangle$ using $4n - 4 T$ gates.\n",
    "\n",
    "#### Parameters\n",
    " - `a_dtype`: Quantum datatype used to represent the integer a.\n",
    " - `b_dtype`: Quantum datatype used to represent the integer b. Must be large enough to hold the result in the output register of a + b, or else it simply drops the most significant bits. If not specified, b_dtype is set to a_dtype. \n",
    "\n",
    "#### Registers\n",
    " - `a`: A a_dtype.bitsize-sized input register (register a above).\n",
    " - `b`: A b_dtype.bitsize-sized input/output register (register b above). \n",
    "\n",
    "#### References\n",
    " - [Halving the cost of quantum addition](https://arxiv.org/abs/1709.06648). \n"
   ]
  },
  {
   "cell_type": "code",
   "execution_count": 3,
   "id": "4cb5b704",
   "metadata": {
    "cq.autogen": "Add.bloq_doc.py"
   },
   "outputs": [],
   "source": [
    "from qualtran.bloqs.arithmetic import Add"
   ]
  },
  {
   "cell_type": "markdown",
   "id": "69f415a2",
   "metadata": {
    "cq.autogen": "Add.example_instances.md"
   },
   "source": [
    "### Example Instances"
   ]
  },
  {
   "cell_type": "code",
   "execution_count": 4,
   "id": "b0c9815d",
   "metadata": {
    "cq.autogen": "Add.add_symb"
   },
   "outputs": [],
   "source": [
    "n = sympy.Symbol('n')\n",
    "add_symb = Add(QInt(bitsize=n))"
   ]
  },
  {
   "cell_type": "code",
   "execution_count": 5,
   "id": "b481bd7d",
   "metadata": {
    "cq.autogen": "Add.add_small"
   },
   "outputs": [],
   "source": [
    "add_small = Add(QUInt(bitsize=4))"
   ]
  },
  {
   "cell_type": "code",
   "execution_count": 6,
   "id": "90bc9e29",
   "metadata": {
    "cq.autogen": "Add.add_large"
   },
   "outputs": [],
   "source": [
    "add_large = Add(QUInt(bitsize=64))"
   ]
  },
  {
   "cell_type": "code",
   "execution_count": 7,
   "id": "2fbbb318",
   "metadata": {
    "cq.autogen": "Add.add_diff_size_regs"
   },
   "outputs": [],
   "source": [
    "add_diff_size_regs = Add(QUInt(bitsize=4), QUInt(bitsize=16))"
   ]
  },
  {
   "cell_type": "markdown",
   "id": "253212ec",
   "metadata": {
    "cq.autogen": "Add.graphical_signature.md"
   },
   "source": [
    "#### Graphical Signature"
   ]
  },
  {
   "cell_type": "code",
   "execution_count": 9,
   "id": "ed24479f",
   "metadata": {
    "cq.autogen": "Add.graphical_signature.py"
   },
   "outputs": [
    {
     "data": {
      "application/vnd.jupyter.widget-view+json": {
       "model_id": "3d5504f6a268461697facdb061269c05",
       "version_major": 2,
       "version_minor": 0
      },
      "text/plain": [
       "HBox(children=(Output(outputs=({'output_type': 'display_data', 'data': {'text/plain': '<IPython.core.display.M…"
      ]
     },
     "metadata": {},
     "output_type": "display_data"
    }
   ],
   "source": [
    "from qualtran.drawing import show_bloqs\n",
    "show_bloqs([add_symb, add_small, add_large, add_diff_size_regs],\n",
    "           ['`add_symb`', '`add_small`', '`add_large`', '`add_diff_size_regs`'])"
   ]
  },
  {
   "cell_type": "markdown",
   "id": "1c55412d",
   "metadata": {
    "cq.autogen": "Add.call_graph.md"
   },
   "source": [
    "### Call Graph"
   ]
  },
  {
   "cell_type": "code",
   "execution_count": 10,
   "id": "90569a0c",
   "metadata": {
    "cq.autogen": "Add.call_graph.py"
   },
   "outputs": [
    {
     "data": {
      "image/svg+xml": [
       "<svg xmlns=\"http://www.w3.org/2000/svg\" xmlns:xlink=\"http://www.w3.org/1999/xlink\" width=\"472pt\" height=\"134pt\" viewBox=\"0.00 0.00 472.00 134.00\">\n",
       "<g id=\"graph0\" class=\"graph\" transform=\"scale(1 1) rotate(0) translate(4 130)\">\n",
       "<title>counts</title>\n",
       "<polygon fill=\"white\" stroke=\"none\" points=\"-4,4 -4,-130 468,-130 468,4 -4,4\"/>\n",
       "<!-- b0 -->\n",
       "<g id=\"node1\" class=\"node\">\n",
       "<title>b0</title>\n",
       "<polygon fill=\"none\" stroke=\"black\" points=\"369,-126 101,-126 101,-90 369,-90 369,-126\"/>\n",
       "<text text-anchor=\"start\" x=\"223.38\" y=\"-107.7\" font-family=\"Times,serif\" font-size=\"14.00\">Add</text>\n",
       "<text text-anchor=\"start\" x=\"109\" y=\"-97.5\" font-family=\"monospace\" font-size=\"10.00\">a_dtype=QInt(bit ..., b_dtype=QInt(bit ...</text>\n",
       "</g>\n",
       "<!-- b1 -->\n",
       "<g id=\"node2\" class=\"node\">\n",
       "<title>b1</title>\n",
       "<polygon fill=\"none\" stroke=\"black\" points=\"190,-36 0,-36 0,0 190,0 190,-36\"/>\n",
       "<text text-anchor=\"start\" x=\"83.38\" y=\"-17.7\" font-family=\"Times,serif\" font-size=\"14.00\">And</text>\n",
       "<text text-anchor=\"start\" x=\"8\" y=\"-7.5\" font-family=\"monospace\" font-size=\"10.00\">cv1=1, cv2=1, uncompute=False</text>\n",
       "</g>\n",
       "<!-- b0&#45;&gt;b1 -->\n",
       "<g id=\"edge1\" class=\"edge\">\n",
       "<title>b0-&gt;b1</title>\n",
       "<path fill=\"none\" stroke=\"black\" d=\"M207.34,-89.61C185.86,-76.11 155.87,-57.26 132.28,-42.43\"/>\n",
       "<polygon fill=\"black\" stroke=\"black\" points=\"134.21,-39.51 123.88,-37.16 130.49,-45.44 134.21,-39.51\"/>\n",
       "<text text-anchor=\"middle\" x=\"190.29\" y=\"-57.95\" font-family=\"Times,serif\" font-size=\"14.00\">n - 1</text>\n",
       "</g>\n",
       "<!-- b2 -->\n",
       "<g id=\"node3\" class=\"node\">\n",
       "<title>b2</title>\n",
       "<polygon fill=\"none\" stroke=\"black\" points=\"262,-36 208,-36 208,0 262,0 262,-36\"/>\n",
       "<text text-anchor=\"start\" x=\"216.62\" y=\"-12.95\" font-family=\"Times,serif\" font-size=\"14.00\">CNOT</text>\n",
       "</g>\n",
       "<!-- b0&#45;&gt;b2 -->\n",
       "<g id=\"edge2\" class=\"edge\">\n",
       "<title>b0-&gt;b2</title>\n",
       "<path fill=\"none\" stroke=\"black\" d=\"M235,-89.61C235,-77.68 235,-61.57 235,-47.74\"/>\n",
       "<polygon fill=\"black\" stroke=\"black\" points=\"238.5,-47.86 235,-37.86 231.5,-47.86 238.5,-47.86\"/>\n",
       "<text text-anchor=\"middle\" x=\"252.62\" y=\"-58.7\" font-family=\"Times,serif\" font-size=\"14.00\">6⋅n - 9</text>\n",
       "</g>\n",
       "<!-- b3 -->\n",
       "<g id=\"node4\" class=\"node\">\n",
       "<title>b3</title>\n",
       "<polygon fill=\"none\" stroke=\"black\" points=\"464,-36 280,-36 280,0 464,0 464,-36\"/>\n",
       "<text text-anchor=\"start\" x=\"357\" y=\"-17.7\" font-family=\"Times,serif\" font-size=\"14.00\">And†</text>\n",
       "<text text-anchor=\"start\" x=\"288\" y=\"-7.5\" font-family=\"monospace\" font-size=\"10.00\">cv1=1, cv2=1, uncompute=True</text>\n",
       "</g>\n",
       "<!-- b0&#45;&gt;b3 -->\n",
       "<g id=\"edge3\" class=\"edge\">\n",
       "<title>b0-&gt;b3</title>\n",
       "<path fill=\"none\" stroke=\"black\" d=\"M262.07,-89.61C283.08,-76.11 312.43,-57.26 335.52,-42.43\"/>\n",
       "<polygon fill=\"black\" stroke=\"black\" points=\"337.19,-45.52 343.72,-37.17 333.41,-39.63 337.19,-45.52\"/>\n",
       "<text text-anchor=\"middle\" x=\"328.52\" y=\"-57.95\" font-family=\"Times,serif\" font-size=\"14.00\">n - 1</text>\n",
       "</g>\n",
       "</g>\n",
       "</svg>"
      ],
      "text/plain": [
       "<IPython.core.display.SVG object>"
      ]
     },
     "metadata": {},
     "output_type": "display_data"
    },
    {
     "data": {
      "text/markdown": [
       "#### Counts totals:\n",
       " - `And(cv1=1, cv2=1, uncompute=False)`: $\\displaystyle n - 1$\n",
       " - `And(cv1=1, cv2=1, uncompute=True)`: $\\displaystyle n - 1$\n",
       " - `CNOT()`: $\\displaystyle 6 n - 9$"
      ],
      "text/plain": [
       "<IPython.core.display.Markdown object>"
      ]
     },
     "metadata": {},
     "output_type": "display_data"
    }
   ],
   "source": [
    "from qualtran.resource_counting.generalizers import ignore_split_join\n",
    "add_symb_g, add_symb_sigma = add_symb.call_graph(max_depth=1, generalizer=ignore_split_join)\n",
    "show_call_graph(add_symb_g)\n",
    "show_counts_sigma(add_symb_sigma)"
   ]
  },
  {
   "cell_type": "markdown",
   "id": "8ae20541",
   "metadata": {
    "cq.autogen": "OutOfPlaceAdder.bloq_doc.md"
   },
   "source": [
    "## `OutOfPlaceAdder`\n",
    "An n-bit addition gate.\n",
    "\n",
    "Implements $U|a\\rangle|b\\rangle 0\\rangle \\rightarrow |a\\rangle|b\\rangle|a+b\\rangle$\n",
    "using $4n - 4 T$ gates. Uncomputation requires 0 T-gates.\n",
    "\n",
    "#### Parameters\n",
    " - `bitsize`: Number of bits used to represent each input integer. The allocated output register is of size `bitsize+1` so it has enough space to hold the sum of `a+b`.\n",
    " - `is_adjoint`: Whether this is compute or uncompute version.\n",
    " - `include_most_significant_bit`: Whether to add an extra most significant (i.e. carry) bit. \n",
    "\n",
    "#### Registers\n",
    " - `a`: A bitsize-sized input register (register a above).\n",
    " - `b`: A bitsize-sized input register (register b above).\n",
    " - `c`: The LEFT/RIGHT register depending on whether the gate adjoint or not. This register size is either bitsize or bitsize+1 depending on the value of `include_most_significant_bit`. \n",
    "\n",
    "#### References\n",
    " - [Halving the cost of quantum addition](https://arxiv.org/abs/1709.06648). \n"
   ]
  },
  {
   "cell_type": "code",
   "execution_count": 12,
   "id": "7c51ccda",
   "metadata": {
    "cq.autogen": "OutOfPlaceAdder.bloq_doc.py"
   },
   "outputs": [],
   "source": [
    "from qualtran.bloqs.arithmetic import OutOfPlaceAdder"
   ]
  },
  {
   "cell_type": "markdown",
   "id": "6e0af527",
   "metadata": {
    "cq.autogen": "OutOfPlaceAdder.example_instances.md"
   },
   "source": [
    "### Example Instances"
   ]
  },
  {
   "cell_type": "code",
   "execution_count": 13,
   "id": "f062b497",
   "metadata": {
    "cq.autogen": "OutOfPlaceAdder.add_oop_symb"
   },
   "outputs": [],
   "source": [
    "n = sympy.Symbol('n')\n",
    "add_oop_symb = OutOfPlaceAdder(bitsize=n)"
   ]
  },
  {
   "cell_type": "code",
   "execution_count": 14,
   "id": "0bde421f",
   "metadata": {
    "cq.autogen": "OutOfPlaceAdder.add_oop_small"
   },
   "outputs": [],
   "source": [
    "add_oop_small = OutOfPlaceAdder(bitsize=4)"
   ]
  },
  {
   "cell_type": "code",
   "execution_count": 15,
   "id": "ce284cd8",
   "metadata": {
    "cq.autogen": "OutOfPlaceAdder.add_oop_large"
   },
   "outputs": [],
   "source": [
    "add_oop_large = OutOfPlaceAdder(bitsize=64)"
   ]
  },
  {
   "cell_type": "markdown",
   "id": "052cf86a",
   "metadata": {
    "cq.autogen": "OutOfPlaceAdder.graphical_signature.md"
   },
   "source": [
    "#### Graphical Signature"
   ]
  },
  {
   "cell_type": "code",
   "execution_count": 16,
   "id": "672073d0",
   "metadata": {
    "cq.autogen": "OutOfPlaceAdder.graphical_signature.py"
   },
   "outputs": [
    {
     "data": {
      "application/vnd.jupyter.widget-view+json": {
       "model_id": "15963e05fc45445180cd0a3eae6ffa74",
       "version_major": 2,
       "version_minor": 0
      },
      "text/plain": [
       "HBox(children=(Output(outputs=({'output_type': 'display_data', 'data': {'text/plain': '<IPython.core.display.M…"
      ]
     },
     "metadata": {},
     "output_type": "display_data"
    }
   ],
   "source": [
    "from qualtran.drawing import show_bloqs\n",
    "show_bloqs([add_oop_symb, add_oop_small, add_oop_large],\n",
    "           ['`add_oop_symb`', '`add_oop_small`', '`add_oop_large`'])"
   ]
  },
  {
   "cell_type": "markdown",
   "id": "ab488ede",
   "metadata": {
    "cq.autogen": "OutOfPlaceAdder.call_graph.md"
   },
   "source": [
    "### Call Graph"
   ]
  },
  {
   "cell_type": "code",
   "execution_count": 24,
   "id": "311c752e",
   "metadata": {
    "cq.autogen": "OutOfPlaceAdder.call_graph.py"
   },
   "outputs": [
    {
     "data": {
      "image/svg+xml": [
       "<svg xmlns=\"http://www.w3.org/2000/svg\" xmlns:xlink=\"http://www.w3.org/1999/xlink\" width=\"326pt\" height=\"134pt\" viewBox=\"0.00 0.00 325.88 134.00\">\n",
       "<g id=\"graph0\" class=\"graph\" transform=\"scale(1 1) rotate(0) translate(4 130)\">\n",
       "<title>counts</title>\n",
       "<polygon fill=\"white\" stroke=\"none\" points=\"-4,4 -4,-130 321.88,-130 321.88,4 -4,4\"/>\n",
       "<!-- b0 -->\n",
       "<g id=\"node1\" class=\"node\">\n",
       "<title>b0</title>\n",
       "<polygon fill=\"none\" stroke=\"black\" points=\"227.88,-126 49.88,-126 49.88,-90 227.88,-90 227.88,-126\"/>\n",
       "<text text-anchor=\"start\" x=\"113.75\" y=\"-107.7\" font-family=\"Times,serif\" font-size=\"14.00\">c = a + b</text>\n",
       "<text text-anchor=\"start\" x=\"57.88\" y=\"-97.5\" font-family=\"monospace\" font-size=\"10.00\">bitsize=n, is_adjoint=False</text>\n",
       "</g>\n",
       "<!-- b1 -->\n",
       "<g id=\"node2\" class=\"node\">\n",
       "<title>b1</title>\n",
       "<polygon fill=\"none\" stroke=\"black\" points=\"109.75,-36 0,-36 0,0 109.75,0 109.75,-36\"/>\n",
       "<text text-anchor=\"start\" x=\"8\" y=\"-17.7\" font-family=\"Times,serif\" font-size=\"14.00\">ArbitraryClifford</text>\n",
       "<text text-anchor=\"start\" x=\"45.88\" y=\"-7.5\" font-family=\"monospace\" font-size=\"10.00\">n=2</text>\n",
       "</g>\n",
       "<!-- b0&#45;&gt;b1 -->\n",
       "<g id=\"edge1\" class=\"edge\">\n",
       "<title>b0-&gt;b1</title>\n",
       "<path fill=\"none\" stroke=\"black\" d=\"M122.28,-89.61C109.97,-76.72 92.99,-58.93 79.16,-44.44\"/>\n",
       "<polygon fill=\"black\" stroke=\"black\" points=\"81.92,-42.26 72.48,-37.44 76.85,-47.09 81.92,-42.26\"/>\n",
       "<text text-anchor=\"middle\" x=\"112.65\" y=\"-58.7\" font-family=\"Times,serif\" font-size=\"14.00\">5⋅n</text>\n",
       "</g>\n",
       "<!-- b2 -->\n",
       "<g id=\"node3\" class=\"node\">\n",
       "<title>b2</title>\n",
       "<polygon fill=\"none\" stroke=\"black\" points=\"317.88,-36 127.88,-36 127.88,0 317.88,0 317.88,-36\"/>\n",
       "<text text-anchor=\"start\" x=\"211.25\" y=\"-17.7\" font-family=\"Times,serif\" font-size=\"14.00\">And</text>\n",
       "<text text-anchor=\"start\" x=\"135.88\" y=\"-7.5\" font-family=\"monospace\" font-size=\"10.00\">cv1=1, cv2=1, uncompute=False</text>\n",
       "</g>\n",
       "<!-- b0&#45;&gt;b2 -->\n",
       "<g id=\"edge2\" class=\"edge\">\n",
       "<title>b0-&gt;b2</title>\n",
       "<path fill=\"none\" stroke=\"black\" d=\"M155.47,-89.61C167.78,-76.72 184.76,-58.93 198.59,-44.44\"/>\n",
       "<polygon fill=\"black\" stroke=\"black\" points=\"200.9,-47.09 205.27,-37.44 195.83,-42.26 200.9,-47.09\"/>\n",
       "<text text-anchor=\"middle\" x=\"191.77\" y=\"-57.95\" font-family=\"Times,serif\" font-size=\"14.00\">n</text>\n",
       "</g>\n",
       "</g>\n",
       "</svg>"
      ],
      "text/plain": [
       "<IPython.core.display.SVG object>"
      ]
     },
     "metadata": {},
     "output_type": "display_data"
    },
    {
     "data": {
      "text/markdown": [
       "#### Counts totals:\n",
       " - `And(cv1=1, cv2=1, uncompute=False)`: $\\displaystyle n$\n",
       " - `ArbitraryClifford(n=2)`: $\\displaystyle 5 n$"
      ],
      "text/plain": [
       "<IPython.core.display.Markdown object>"
      ]
     },
     "metadata": {},
     "output_type": "display_data"
    }
   ],
   "source": [
    "from qualtran.resource_counting.generalizers import ignore_split_join\n",
    "add_oop_symb_g, add_oop_symb_sigma = add_oop_symb.call_graph(max_depth=1, generalizer=ignore_split_join)\n",
    "show_call_graph(add_oop_symb_g)\n",
    "show_counts_sigma(add_oop_symb_sigma)"
   ]
  },
  {
   "cell_type": "markdown",
   "id": "62b014b7",
   "metadata": {
    "cq.autogen": "AddK.bloq_doc.md"
   },
   "source": [
    "## `AddK`\n",
    "Takes |x> to |x + k> for a classical integer `k`.\n",
    "\n",
    "This construction simply XORs the classical constant into a quantum register and\n",
    "applies quantum-quantum addition. This is the lowest T-count algorithm at the expense\n",
    "of $n$ auxiliary qubits. This construction also permits an inexpensive controlled version:\n",
    "you only need to control the loading of the classical constant which can be done with\n",
    "only clifford operations.\n",
    "\n",
    "#### Parameters\n",
    " - `dtype`: data type of the input register `x`\n",
    " - `k`: The classical integer value to be added to x. \n",
    "\n",
    "#### Registers\n",
    " - `x`: register of type `self.dtype` \n",
    "\n",
    "#### References\n",
    " - [Improved quantum circuits for elliptic curve discrete logarithms](https://arxiv.org/abs/2001.09580). Haner et al. 2020. Section 3: Components. \"Integer addition\" and Fig 2a.\n"
   ]
  },
  {
   "cell_type": "code",
   "execution_count": 18,
   "id": "3155864a",
   "metadata": {
    "cq.autogen": "AddK.bloq_doc.py"
   },
   "outputs": [],
   "source": [
    "from qualtran.bloqs.arithmetic import AddK"
   ]
  },
  {
   "cell_type": "markdown",
   "id": "9009b701",
   "metadata": {
    "cq.autogen": "AddK.example_instances.md"
   },
   "source": [
    "### Example Instances"
   ]
  },
  {
   "cell_type": "code",
   "execution_count": 19,
   "id": "7e2a9fdf",
   "metadata": {
    "cq.autogen": "AddK.add_k"
   },
   "outputs": [],
   "source": [
    "n, k = sympy.symbols('n k')\n",
    "add_k = AddK(QUInt(n), k=k)"
   ]
  },
  {
   "cell_type": "code",
   "execution_count": 20,
   "id": "f4e218da",
   "metadata": {
    "cq.autogen": "AddK.add_k_small"
   },
   "outputs": [],
   "source": [
    "add_k_small = AddK(QUInt(4), k=2)"
   ]
  },
  {
   "cell_type": "code",
   "execution_count": 21,
   "id": "97073a76",
   "metadata": {
    "cq.autogen": "AddK.add_k_large"
   },
   "outputs": [],
   "source": [
    "add_k_large = AddK(QInt(64), k=-23)"
   ]
  },
  {
   "cell_type": "markdown",
   "id": "57f1032d",
   "metadata": {
    "cq.autogen": "AddK.graphical_signature.md"
   },
   "source": [
    "#### Graphical Signature"
   ]
  },
  {
   "cell_type": "code",
   "execution_count": 22,
   "id": "d5d7dad4",
   "metadata": {
    "cq.autogen": "AddK.graphical_signature.py"
   },
   "outputs": [
    {
     "data": {
      "application/vnd.jupyter.widget-view+json": {
       "model_id": "3adc9797997247b6a095fdcb3292a69e",
       "version_major": 2,
       "version_minor": 0
      },
      "text/plain": [
       "HBox(children=(Output(outputs=({'output_type': 'display_data', 'data': {'text/plain': '<IPython.core.display.M…"
      ]
     },
     "metadata": {},
     "output_type": "display_data"
    }
   ],
   "source": [
    "from qualtran.drawing import show_bloqs\n",
    "show_bloqs([add_k, add_k_small, add_k_large],\n",
    "           ['`add_k`', '`add_k_small`', '`add_k_large`'])"
   ]
  },
  {
   "cell_type": "markdown",
   "id": "f1a51ffb",
   "metadata": {
    "cq.autogen": "AddK.call_graph.md"
   },
   "source": [
    "### Call Graph"
   ]
  },
  {
   "cell_type": "code",
   "execution_count": 23,
   "id": "cbfc2d39",
   "metadata": {
    "cq.autogen": "AddK.call_graph.py"
   },
   "outputs": [
    {
     "ename": "TypeError",
     "evalue": "'>' not supported between instances of 'QUInt' and 'QUInt'",
     "output_type": "error",
     "traceback": [
      "\u001b[31m---------------------------------------------------------------------------\u001b[39m",
      "\u001b[31mTypeError\u001b[39m                                 Traceback (most recent call last)",
      "\u001b[36mCell\u001b[39m\u001b[36m \u001b[39m\u001b[32mIn[23]\u001b[39m\u001b[32m, line 2\u001b[39m\n\u001b[32m      1\u001b[39m \u001b[38;5;28;01mfrom\u001b[39;00m\u001b[38;5;250m \u001b[39m\u001b[34;01mqualtran\u001b[39;00m\u001b[34;01m.\u001b[39;00m\u001b[34;01mresource_counting\u001b[39;00m\u001b[34;01m.\u001b[39;00m\u001b[34;01mgeneralizers\u001b[39;00m\u001b[38;5;250m \u001b[39m\u001b[38;5;28;01mimport\u001b[39;00m ignore_split_join\n\u001b[32m----> \u001b[39m\u001b[32m2\u001b[39m add_k_g, add_k_sigma = \u001b[43madd_k\u001b[49m\u001b[43m.\u001b[49m\u001b[43mcall_graph\u001b[49m\u001b[43m(\u001b[49m\u001b[43mmax_depth\u001b[49m\u001b[43m=\u001b[49m\u001b[32;43m1\u001b[39;49m\u001b[43m,\u001b[49m\u001b[43m \u001b[49m\u001b[43mgeneralizer\u001b[49m\u001b[43m=\u001b[49m\u001b[43mignore_split_join\u001b[49m\u001b[43m)\u001b[49m\n\u001b[32m      3\u001b[39m show_call_graph(add_k_g)\n\u001b[32m      4\u001b[39m show_counts_sigma(add_k_sigma)\n",
      "\u001b[36mFile \u001b[39m\u001b[32m~/Documents/Quantum/Qualtran-3/qualtran/_infra/bloq.py:343\u001b[39m, in \u001b[36mBloq.call_graph\u001b[39m\u001b[34m(self, generalizer, keep, max_depth)\u001b[39m\n\u001b[32m    319\u001b[39m \u001b[38;5;250m\u001b[39m\u001b[33;03m\"\"\"Get the bloq call graph and call totals.\u001b[39;00m\n\u001b[32m    320\u001b[39m \n\u001b[32m    321\u001b[39m \u001b[33;03mThe call graph has edges from a parent bloq to each of the bloqs that it calls in\u001b[39;00m\n\u001b[32m   (...)\u001b[39m\u001b[32m    339\u001b[39m \u001b[33;03m        decomposed.\u001b[39;00m\n\u001b[32m    340\u001b[39m \u001b[33;03m\"\"\"\u001b[39;00m\n\u001b[32m    341\u001b[39m \u001b[38;5;28;01mfrom\u001b[39;00m\u001b[38;5;250m \u001b[39m\u001b[34;01mqualtran\u001b[39;00m\u001b[34;01m.\u001b[39;00m\u001b[34;01mresource_counting\u001b[39;00m\u001b[38;5;250m \u001b[39m\u001b[38;5;28;01mimport\u001b[39;00m get_bloq_call_graph\n\u001b[32m--> \u001b[39m\u001b[32m343\u001b[39m \u001b[38;5;28;01mreturn\u001b[39;00m \u001b[43mget_bloq_call_graph\u001b[49m\u001b[43m(\u001b[49m\u001b[38;5;28;43mself\u001b[39;49m\u001b[43m,\u001b[49m\u001b[43m \u001b[49m\u001b[43mgeneralizer\u001b[49m\u001b[43m=\u001b[49m\u001b[43mgeneralizer\u001b[49m\u001b[43m,\u001b[49m\u001b[43m \u001b[49m\u001b[43mkeep\u001b[49m\u001b[43m=\u001b[49m\u001b[43mkeep\u001b[49m\u001b[43m,\u001b[49m\u001b[43m \u001b[49m\u001b[43mmax_depth\u001b[49m\u001b[43m=\u001b[49m\u001b[43mmax_depth\u001b[49m\u001b[43m)\u001b[49m\n",
      "\u001b[36mFile \u001b[39m\u001b[32m~/Documents/Quantum/Qualtran-3/qualtran/resource_counting/_call_graph.py:241\u001b[39m, in \u001b[36mget_bloq_call_graph\u001b[39m\u001b[34m(bloq, generalizer, ssa, keep, max_depth)\u001b[39m\n\u001b[32m    239\u001b[39m \u001b[38;5;28;01mif\u001b[39;00m bloq \u001b[38;5;129;01mis\u001b[39;00m \u001b[38;5;28;01mNone\u001b[39;00m:\n\u001b[32m    240\u001b[39m     \u001b[38;5;28;01mraise\u001b[39;00m \u001b[38;5;167;01mValueError\u001b[39;00m(\u001b[33m\"\u001b[39m\u001b[33mYou can\u001b[39m\u001b[33m'\u001b[39m\u001b[33mt generalize away the root bloq.\u001b[39m\u001b[33m\"\u001b[39m)\n\u001b[32m--> \u001b[39m\u001b[32m241\u001b[39m \u001b[43m_build_call_graph\u001b[49m\u001b[43m(\u001b[49m\u001b[43mbloq\u001b[49m\u001b[43m,\u001b[49m\u001b[43m \u001b[49m\u001b[43mgeneralizer\u001b[49m\u001b[43m,\u001b[49m\u001b[43m \u001b[49m\u001b[43mssa\u001b[49m\u001b[43m,\u001b[49m\u001b[43m \u001b[49m\u001b[43mkeep\u001b[49m\u001b[43m,\u001b[49m\u001b[43m \u001b[49m\u001b[43mmax_depth\u001b[49m\u001b[43m,\u001b[49m\u001b[43m \u001b[49m\u001b[43mg\u001b[49m\u001b[43m=\u001b[49m\u001b[43mg\u001b[49m\u001b[43m,\u001b[49m\u001b[43m \u001b[49m\u001b[43mdepth\u001b[49m\u001b[43m=\u001b[49m\u001b[32;43m0\u001b[39;49m\u001b[43m)\u001b[49m\n\u001b[32m    242\u001b[39m sigma = _compute_sigma(bloq, g)\n\u001b[32m    243\u001b[39m \u001b[38;5;28;01mreturn\u001b[39;00m g, sigma\n",
      "\u001b[36mFile \u001b[39m\u001b[32m~/Documents/Quantum/Qualtran-3/qualtran/resource_counting/_call_graph.py:153\u001b[39m, in \u001b[36m_build_call_graph\u001b[39m\u001b[34m(bloq, generalizer, ssa, keep, max_depth, g, depth)\u001b[39m\n\u001b[32m    150\u001b[39m     \u001b[38;5;28;01mreturn\u001b[39;00m\n\u001b[32m    152\u001b[39m \u001b[38;5;66;03m# Prep for recursion: get the callees and modify them according to `generalizer`.\u001b[39;00m\n\u001b[32m--> \u001b[39m\u001b[32m153\u001b[39m callee_counts = \u001b[43mget_bloq_callee_counts\u001b[49m\u001b[43m(\u001b[49m\u001b[43mbloq\u001b[49m\u001b[43m,\u001b[49m\u001b[43m \u001b[49m\u001b[43mgeneralizer\u001b[49m\u001b[43m)\u001b[49m\n\u001b[32m    155\u001b[39m \u001b[38;5;66;03m# Base case 3: Empty list of callees\u001b[39;00m\n\u001b[32m    156\u001b[39m \u001b[38;5;28;01mif\u001b[39;00m \u001b[38;5;129;01mnot\u001b[39;00m callee_counts:\n",
      "\u001b[36mFile \u001b[39m\u001b[32m~/Documents/Quantum/Qualtran-3/qualtran/resource_counting/_call_graph.py:118\u001b[39m, in \u001b[36mget_bloq_callee_counts\u001b[39m\u001b[34m(bloq, generalizer, ssa)\u001b[39m\n\u001b[32m    115\u001b[39m     ssa = SympySymbolAllocator()\n\u001b[32m    117\u001b[39m \u001b[38;5;28;01mtry\u001b[39;00m:\n\u001b[32m--> \u001b[39m\u001b[32m118\u001b[39m     \u001b[38;5;28;01mreturn\u001b[39;00m _generalize_callees(\u001b[43mbloq\u001b[49m\u001b[43m.\u001b[49m\u001b[43mbuild_call_graph\u001b[49m\u001b[43m(\u001b[49m\u001b[43mssa\u001b[49m\u001b[43m)\u001b[49m, generalizer)\n\u001b[32m    119\u001b[39m \u001b[38;5;28;01mexcept\u001b[39;00m (DecomposeNotImplementedError, DecomposeTypeError):\n\u001b[32m    120\u001b[39m     \u001b[38;5;28;01mreturn\u001b[39;00m []\n",
      "\u001b[36mFile \u001b[39m\u001b[32m~/Documents/Quantum/Qualtran-3/qualtran/bloqs/arithmetic/addition.py:602\u001b[39m, in \u001b[36mAddK.build_call_graph\u001b[39m\u001b[34m(self, ssa)\u001b[39m\n\u001b[32m    598\u001b[39m \u001b[38;5;28;01melse\u001b[39;00m:\n\u001b[32m    599\u001b[39m     \u001b[38;5;66;03m# Otherwise, use the decomposition\u001b[39;00m\n\u001b[32m    600\u001b[39m     \u001b[38;5;28;01mreturn\u001b[39;00m \u001b[38;5;28msuper\u001b[39m().build_call_graph(ssa=ssa)\n\u001b[32m--> \u001b[39m\u001b[32m602\u001b[39m \u001b[38;5;28;01mreturn\u001b[39;00m {loading_cost, (\u001b[43mAdd\u001b[49m\u001b[43m(\u001b[49m\u001b[43mQUInt\u001b[49m\u001b[43m(\u001b[49m\u001b[38;5;28;43mself\u001b[39;49m\u001b[43m.\u001b[49m\u001b[43mbitsize\u001b[49m\u001b[43m)\u001b[49m\u001b[43m)\u001b[49m, \u001b[32m1\u001b[39m)}\n",
      "\u001b[36mFile \u001b[39m\u001b[32m<attrs generated methods qualtran.bloqs.arithmetic.addition.Add>:37\u001b[39m, in \u001b[36m__init__\u001b[39m\u001b[34m(self, a_dtype, b_dtype)\u001b[39m\n\u001b[32m     35\u001b[39m     _setattr(\u001b[33m'\u001b[39m\u001b[33mb_dtype\u001b[39m\u001b[33m'\u001b[39m, __attr_factory_b_dtype(\u001b[38;5;28mself\u001b[39m))\n\u001b[32m     36\u001b[39m \u001b[38;5;28;01mif\u001b[39;00m _config._run_validators \u001b[38;5;129;01mis\u001b[39;00m \u001b[38;5;28;01mTrue\u001b[39;00m:\n\u001b[32m---> \u001b[39m\u001b[32m37\u001b[39m     \u001b[43m__attr_validator_a_dtype\u001b[49m\u001b[43m(\u001b[49m\u001b[38;5;28;43mself\u001b[39;49m\u001b[43m,\u001b[49m\u001b[43m \u001b[49m\u001b[43m__attr_a_dtype\u001b[49m\u001b[43m,\u001b[49m\u001b[43m \u001b[49m\u001b[38;5;28;43mself\u001b[39;49m\u001b[43m.\u001b[49m\u001b[43ma_dtype\u001b[49m\u001b[43m)\u001b[49m\n\u001b[32m     38\u001b[39m     __attr_validator_b_dtype(\u001b[38;5;28mself\u001b[39m, __attr_b_dtype, \u001b[38;5;28mself\u001b[39m.b_dtype)\n",
      "\u001b[36mFile \u001b[39m\u001b[32m~/Documents/Quantum/Qualtran-3/qualtran/bloqs/arithmetic/addition.py:186\u001b[39m, in \u001b[36mAdd._a_dtype_validate\u001b[39m\u001b[34m(self, field, val)\u001b[39m\n\u001b[32m    184\u001b[39m \u001b[38;5;28;01mif\u001b[39;00m \u001b[38;5;28misinstance\u001b[39m(val.num_qubits, sympy.Expr):\n\u001b[32m    185\u001b[39m     \u001b[38;5;28;01mreturn\u001b[39;00m\n\u001b[32m--> \u001b[39m\u001b[32m186\u001b[39m \u001b[38;5;28;01mif\u001b[39;00m \u001b[43mval\u001b[49m\u001b[43m.\u001b[49m\u001b[43mbitsize\u001b[49m\u001b[43m \u001b[49m\u001b[43m>\u001b[49m\u001b[43m \u001b[49m\u001b[38;5;28;43mself\u001b[39;49m\u001b[43m.\u001b[49m\u001b[43mb_dtype\u001b[49m\u001b[43m.\u001b[49m\u001b[43mbitsize\u001b[49m:\n\u001b[32m    187\u001b[39m     \u001b[38;5;28;01mraise\u001b[39;00m \u001b[38;5;167;01mValueError\u001b[39;00m(\u001b[33m\"\u001b[39m\u001b[33ma_dtype bitsize must be less than or equal to b_dtype bitsize\u001b[39m\u001b[33m\"\u001b[39m)\n",
      "\u001b[31mTypeError\u001b[39m: '>' not supported between instances of 'QUInt' and 'QUInt'"
     ]
    }
   ],
   "source": [
    "from qualtran.resource_counting.generalizers import ignore_split_join\n",
    "add_k_g, add_k_sigma = add_k.call_graph(max_depth=1, generalizer=ignore_split_join)\n",
    "show_call_graph(add_k_g)\n",
    "show_counts_sigma(add_k_sigma)"
   ]
  },
  {
   "cell_type": "code",
   "execution_count": null,
   "id": "257a3d30",
   "metadata": {},
   "outputs": [],
   "source": []
  }
 ],
 "metadata": {
  "kernelspec": {
   "display_name": "qualtran",
   "language": "python",
   "name": "python3"
  },
  "language_info": {
   "codemirror_mode": {
    "name": "ipython",
    "version": 3
   },
   "file_extension": ".py",
   "mimetype": "text/x-python",
   "name": "python",
   "nbconvert_exporter": "python",
   "pygments_lexer": "ipython3",
   "version": "3.13.2"
  }
 },
 "nbformat": 4,
 "nbformat_minor": 5
}
